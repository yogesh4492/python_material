{
 "cells": [
  {
   "cell_type": "code",
   "execution_count": 3,
   "id": "42c05773",
   "metadata": {},
   "outputs": [
    {
     "name": "stdout",
     "output_type": "stream",
     "text": [
      "lenght of string= 11\n"
     ]
    }
   ],
   "source": [
    "\"\"\"\n",
    "1 Find the length of a string without using len().\n",
    "\"\"\"\n",
    "\n",
    "count=0\n",
    "text=input(\"Enter String = \") \n",
    "for i in text:\n",
    "    count+=1\n",
    "print(f\"lenght of string= {count}\")"
   ]
  },
  {
   "cell_type": "code",
   "execution_count": null,
   "id": "5db68048",
   "metadata": {},
   "outputs": [
    {
     "name": "stdout",
     "output_type": "stream",
     "text": [
      "Reversed string=olleh\n",
      "olleh\n"
     ]
    }
   ],
   "source": [
    "\"\"\" \n",
    "2 Reverse a string (different methods)\n",
    "\"\"\"\n",
    "#using slicing\n",
    "\n",
    "text=input(\"Enter String= \")\n",
    "print(f\"Reversed string={text[::-1]}\")\n",
    "\n",
    "# using loop\n",
    "\n",
    "text=input(\"Enter String= \")\n",
    "rev=\"\"\n",
    "for i in text:\n",
    "     rev=i+rev\n",
    "print(rev)\n",
    "\n"
   ]
  },
  {
   "cell_type": "code",
   "execution_count": 8,
   "id": "5a609f6a",
   "metadata": {},
   "outputs": [
    {
     "name": "stdout",
     "output_type": "stream",
     "text": [
      "True\n"
     ]
    }
   ],
   "source": [
    "\"\"\" \n",
    " 3  Check if a string is a palindrome.\"\"\"\n",
    "\n",
    "text=input(\"Enter string= \")\n",
    "print(text==text[::-1])"
   ]
  },
  {
   "cell_type": "code",
   "execution_count": 9,
   "id": "d5ad7fa5",
   "metadata": {},
   "outputs": [
    {
     "data": {
      "text/plain": [
       "' \\n4 Count the frequency of characters in a string.\\n'"
      ]
     },
     "execution_count": 9,
     "metadata": {},
     "output_type": "execute_result"
    }
   ],
   "source": [
    "\"\"\" \n",
    "4 Count the frequency of characters in a string.\n",
    "\"\"\"\n"
   ]
  },
  {
   "cell_type": "code",
   "execution_count": 17,
   "id": "daa53c7f",
   "metadata": {},
   "outputs": [
    {
     "name": "stdout",
     "output_type": "stream",
     "text": [
      "string is = hello how are you\n",
      "Total Vowel is = 7\n",
      "Total Consonant is= 10 \n"
     ]
    }
   ],
   "source": [
    "\"\"\"\n",
    "5  Count vowels and consonants in a string.\n",
    "\"\"\"\n",
    "count_vowel=0\n",
    "count_consonat=0\n",
    "text=input(\"Enter String= \").lower()\n",
    "print(f\"string is = {text}\")\n",
    "if text.isascii():\n",
    "    for i in text:\n",
    "    \n",
    "        if i=='a' or i=='e' or i=='o' or i=='u' or i=='i':\n",
    "            count_vowel+=1\n",
    "        else:\n",
    "            count_consonat+=1\n",
    "print(f\"Total Vowel is = {count_vowel}\")\n",
    "print(f\"Total Consonant is= {count_consonat} \")\n",
    "\n"
   ]
  },
  {
   "cell_type": "code",
   "execution_count": 20,
   "id": "86fd54f7",
   "metadata": {},
   "outputs": [
    {
     "name": "stdout",
     "output_type": "stream",
     "text": [
      "Total Word is=1\n",
      "Total World Is =  2\n"
     ]
    }
   ],
   "source": [
    "\"\"\" \n",
    "6. Count the number of words in a string.\n",
    "\"\"\"\n",
    "#  using split most commanly\n",
    "\n",
    "text=input(\"Enter String= \")\n",
    "count_word=text.split()\n",
    "print(f\"Total Word is={len(count_word)}\" )\n",
    "\n",
    "# for loop\n",
    "count_word=1\n",
    "text=input(\"Enter String= \")\n",
    "for i in text:\n",
    "    if i.isspace():\n",
    "        count_word+=1\n",
    "print(\"Total World Is = \",count_word)\n"
   ]
  },
  {
   "cell_type": "code",
   "execution_count": 23,
   "id": "071edf0a",
   "metadata": {},
   "outputs": [
    {
     "name": "stdout",
     "output_type": "stream",
     "text": [
      "hellohowareyou\n",
      "iamfine\n"
     ]
    }
   ],
   "source": [
    "# 7 Remove all whitespace from a string\n",
    "\n",
    "# replace method\n",
    "text=input(\"Enter String= \")\n",
    "print(text.replace(\" \",\"\"))# not replace tabs\n",
    "\n",
    "# split+ join\n",
    "text1=input(\"Enter String= \")\n",
    "spc=\"\".join(text1.split())\n",
    "print(spc)"
   ]
  },
  {
   "cell_type": "code",
   "execution_count": null,
   "id": "19f5e879",
   "metadata": {},
   "outputs": [
    {
     "name": "stdout",
     "output_type": "stream",
     "text": [
      "string = Hello How Are\n",
      "hELLO hOW aRE"
     ]
    }
   ],
   "source": [
    "\"\"\"\n",
    "8. Convert uppercase to lowercase and vice versa (without using .swapcase())\n",
    "\"\"\"\n",
    "# using normal\n",
    "text=input(\"Enter String= \")\n",
    "print(f\"string = {text}\")\n",
    "for i in text:\n",
    "    if i>='a' and i<='z':\n",
    "        res=ord(i)-32\n",
    "        print(chr(res),end=\"\")\n",
    "    elif i>='A' and i<='Z':\n",
    "        res=ord(i)+32\n",
    "        print(chr(res),end=\"\")\n",
    "    else:\n",
    "        print(i,end=\"\")\n",
    "\n"
   ]
  },
  {
   "cell_type": "code",
   "execution_count": 29,
   "id": "af36d7fc",
   "metadata": {},
   "outputs": [
    {
     "name": "stdout",
     "output_type": "stream",
     "text": [
      "text =  HOW are You\n",
      "how ARE yOU"
     ]
    }
   ],
   "source": [
    "# using islower and isupper\n",
    "\n",
    "text=input(\"Enter String= \")\n",
    "print(\"text = \",text)\n",
    "for i in text:\n",
    "    if i.islower():\n",
    "        print(i.upper(),end=\"\")\n",
    "    else:\n",
    "        print(i.lower(),end=\"\")"
   ]
  },
  {
   "cell_type": "code",
   "execution_count": 30,
   "id": "ca6ba2a6",
   "metadata": {},
   "outputs": [
    {
     "data": {
      "text/plain": [
       "' \\n 9 Remove all duplicate characters from a string\\n'"
      ]
     },
     "execution_count": 30,
     "metadata": {},
     "output_type": "execute_result"
    }
   ],
   "source": [
    "\"\"\" \n",
    " 9 Remove all duplicate characters from a string\n",
    "\"\"\"\n"
   ]
  },
  {
   "cell_type": "code",
   "execution_count": null,
   "id": "be76985c",
   "metadata": {},
   "outputs": [],
   "source": [
    "\"\"\" \n",
    "10 Check if a string contains only digits\n",
    "\"\"\"\n",
    "\n"
   ]
  }
 ],
 "metadata": {
  "kernelspec": {
   "display_name": "Python 3",
   "language": "python",
   "name": "python3"
  },
  "language_info": {
   "codemirror_mode": {
    "name": "ipython",
    "version": 3
   },
   "file_extension": ".py",
   "mimetype": "text/x-python",
   "name": "python",
   "nbconvert_exporter": "python",
   "pygments_lexer": "ipython3",
   "version": "3.12.4"
  }
 },
 "nbformat": 4,
 "nbformat_minor": 5
}
