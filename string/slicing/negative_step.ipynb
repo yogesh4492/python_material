{
 "cells": [
  {
   "cell_type": "code",
   "execution_count": 1,
   "id": "b7c903a9",
   "metadata": {},
   "outputs": [
    {
     "data": {
      "text/plain": [
       "' Negative Step '"
      ]
     },
     "execution_count": 1,
     "metadata": {},
     "output_type": "execute_result"
    }
   ],
   "source": [
    "\"\"\" Negative Step \"\"\"\n"
   ]
  },
  {
   "cell_type": "code",
   "execution_count": null,
   "id": "bbc39529",
   "metadata": {},
   "outputs": [
    {
     "name": "stdout",
     "output_type": "stream",
     "text": [
      "uoy erA woH olleH\n"
     ]
    }
   ],
   "source": [
    "txt=\"Hello How Are you\"\n",
    "print(txt[::-1])#reversed"
   ]
  },
  {
   "cell_type": "code",
   "execution_count": 3,
   "id": "2b7e6f53",
   "metadata": {},
   "outputs": [
    {
     "name": "stdout",
     "output_type": "stream",
     "text": [
      "yppah si \n"
     ]
    }
   ],
   "source": [
    "txt=\"python is happy\"\n",
    "print(txt[-1:-10:-1])"
   ]
  },
  {
   "cell_type": "code",
   "execution_count": null,
   "id": "8711772e",
   "metadata": {},
   "outputs": [],
   "source": []
  }
 ],
 "metadata": {
  "kernelspec": {
   "display_name": "Python 3",
   "language": "python",
   "name": "python3"
  },
  "language_info": {
   "codemirror_mode": {
    "name": "ipython",
    "version": 3
   },
   "file_extension": ".py",
   "mimetype": "text/x-python",
   "name": "python",
   "nbconvert_exporter": "python",
   "pygments_lexer": "ipython3",
   "version": "3.12.4"
  }
 },
 "nbformat": 4,
 "nbformat_minor": 5
}
