{
 "cells": [
  {
   "cell_type": "code",
   "execution_count": 1,
   "id": "37b5bca2",
   "metadata": {},
   "outputs": [
    {
     "data": {
      "text/plain": [
       "' Edge /important thing'"
      ]
     },
     "execution_count": 1,
     "metadata": {},
     "output_type": "execute_result"
    }
   ],
   "source": [
    "\"\"\" Edge /important thing\"\"\"\n",
    "\n"
   ]
  },
  {
   "cell_type": "code",
   "execution_count": 2,
   "id": "2ca26651",
   "metadata": {},
   "outputs": [
    {
     "name": "stdout",
     "output_type": "stream",
     "text": [
      "\n"
     ]
    }
   ],
   "source": [
    "text=\"My name is yogesh \"\n",
    "print(text[2:2])# empty ifstart and end  s same\n"
   ]
  },
  {
   "cell_type": "code",
   "execution_count": 5,
   "id": "6c6c5d1c",
   "metadata": {},
   "outputs": [
    {
     "name": "stdout",
     "output_type": "stream",
     "text": [
      "\n"
     ]
    }
   ],
   "source": [
    "text=\"Python Isd poratble alnguage\" \n",
    "print(text[3:1])#if sttart is greter than end empty "
   ]
  },
  {
   "cell_type": "code",
   "execution_count": null,
   "id": "0bf9c235",
   "metadata": {},
   "outputs": [
    {
     "name": "stdout",
     "output_type": "stream",
     "text": [
      "\n"
     ]
    }
   ],
   "source": [
    "text=\"python\"\n",
    "print(text[0:3:-1])# in this case not print anything"
   ]
  },
  {
   "cell_type": "code",
   "execution_count": null,
   "id": "1402cb7a",
   "metadata": {},
   "outputs": [],
   "source": []
  }
 ],
 "metadata": {
  "kernelspec": {
   "display_name": "Python 3",
   "language": "python",
   "name": "python3"
  },
  "language_info": {
   "codemirror_mode": {
    "name": "ipython",
    "version": 3
   },
   "file_extension": ".py",
   "mimetype": "text/x-python",
   "name": "python",
   "nbconvert_exporter": "python",
   "pygments_lexer": "ipython3",
   "version": "3.12.4"
  }
 },
 "nbformat": 4,
 "nbformat_minor": 5
}
