{
 "cells": [
  {
   "cell_type": "code",
   "execution_count": 1,
   "id": "0729f158",
   "metadata": {},
   "outputs": [
    {
     "data": {
      "text/plain": [
       "'  Step Parameter slicing'"
      ]
     },
     "execution_count": 1,
     "metadata": {},
     "output_type": "execute_result"
    }
   ],
   "source": [
    "\"\"\"  Step Parameter slicing\"\"\"\n"
   ]
  },
  {
   "cell_type": "code",
   "execution_count": 2,
   "id": "342ef514",
   "metadata": {},
   "outputs": [
    {
     "name": "stdout",
     "output_type": "stream",
     "text": [
      "hello world my name is yogesh\n"
     ]
    }
   ],
   "source": [
    "txt=\"hello world my name is yogesh\"\n",
    "print(txt[::1])"
   ]
  },
  {
   "cell_type": "code",
   "execution_count": 3,
   "id": "d336e467",
   "metadata": {},
   "outputs": [
    {
     "name": "stdout",
     "output_type": "stream",
     "text": [
      "hlowrdm aei oeh\n"
     ]
    }
   ],
   "source": [
    "txt=\"hello world my name is yogesh\"\n",
    "print(txt[::2])"
   ]
  },
  {
   "cell_type": "code",
   "execution_count": 6,
   "id": "b7fd9dc8",
   "metadata": {},
   "outputs": [
    {
     "name": "stdout",
     "output_type": "stream",
     "text": [
      "el ol ynm sygs\n"
     ]
    }
   ],
   "source": [
    "txt=\"hello world my name is yogesh\"\n",
    "print(txt[1::2])"
   ]
  },
  {
   "cell_type": "code",
   "execution_count": null,
   "id": "4efba06a",
   "metadata": {},
   "outputs": [],
   "source": []
  }
 ],
 "metadata": {
  "kernelspec": {
   "display_name": "Python 3",
   "language": "python",
   "name": "python3"
  },
  "language_info": {
   "codemirror_mode": {
    "name": "ipython",
    "version": 3
   },
   "file_extension": ".py",
   "mimetype": "text/x-python",
   "name": "python",
   "nbconvert_exporter": "python",
   "pygments_lexer": "ipython3",
   "version": "3.12.4"
  }
 },
 "nbformat": 4,
 "nbformat_minor": 5
}
