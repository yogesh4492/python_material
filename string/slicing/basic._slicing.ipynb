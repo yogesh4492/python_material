{
 "cells": [
  {
   "cell_type": "code",
   "execution_count": 1,
   "id": "06cf002a",
   "metadata": {},
   "outputs": [
    {
     "data": {
      "text/plain": [
       "' BasicSlicing Example'"
      ]
     },
     "execution_count": 1,
     "metadata": {},
     "output_type": "execute_result"
    }
   ],
   "source": [
    "\"\"\" BasicSlicing Example\"\"\""
   ]
  },
  {
   "cell_type": "code",
   "execution_count": 3,
   "id": "f95a4097",
   "metadata": {},
   "outputs": [
    {
     "name": "stdout",
     "output_type": "stream",
     "text": [
      "Hello world\n"
     ]
    }
   ],
   "source": [
    "text=\"Hello world\"\n",
    "\n",
    "print(text[:])"
   ]
  },
  {
   "cell_type": "code",
   "execution_count": 6,
   "id": "6a9a6d81",
   "metadata": {},
   "outputs": [
    {
     "name": "stdout",
     "output_type": "stream",
     "text": [
      "ello world\n"
     ]
    }
   ],
   "source": [
    "text=\"Hello world\"\n",
    "print(text[1:])"
   ]
  },
  {
   "cell_type": "code",
   "execution_count": 9,
   "id": "1d5500ac",
   "metadata": {},
   "outputs": [
    {
     "name": "stdout",
     "output_type": "stream",
     "text": [
      "Hello Yogesh\n"
     ]
    }
   ],
   "source": [
    "text=\"Hello Yogesh\"\n",
    "print(text[:15])"
   ]
  },
  {
   "cell_type": "code",
   "execution_count": 10,
   "id": "c2e7351e",
   "metadata": {},
   "outputs": [
    {
     "name": "stdout",
     "output_type": "stream",
     "text": [
      "Hello How Are You\n"
     ]
    }
   ],
   "source": [
    "text=\"Hello How Are You\"\n",
    "print(text[::1])"
   ]
  },
  {
   "cell_type": "code",
   "execution_count": 12,
   "id": "2a02ec9f",
   "metadata": {},
   "outputs": [
    {
     "name": "stdout",
     "output_type": "stream",
     "text": [
      "nohtyp olleh\n"
     ]
    }
   ],
   "source": [
    "text=\"hello python\"\n",
    "print(text[::-1]) #reverse"
   ]
  },
  {
   "cell_type": "code",
   "execution_count": null,
   "id": "e866fb88",
   "metadata": {},
   "outputs": [],
   "source": []
  }
 ],
 "metadata": {
  "kernelspec": {
   "display_name": "Python 3",
   "language": "python",
   "name": "python3"
  },
  "language_info": {
   "codemirror_mode": {
    "name": "ipython",
    "version": 3
   },
   "file_extension": ".py",
   "mimetype": "text/x-python",
   "name": "python",
   "nbconvert_exporter": "python",
   "pygments_lexer": "ipython3",
   "version": "3.12.4"
  }
 },
 "nbformat": 4,
 "nbformat_minor": 5
}
