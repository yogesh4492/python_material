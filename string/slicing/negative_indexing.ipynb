{
 "cells": [
  {
   "cell_type": "code",
   "execution_count": 1,
   "id": "f1570760",
   "metadata": {},
   "outputs": [
    {
     "data": {
      "text/plain": [
       "' Negative indexing '"
      ]
     },
     "execution_count": 1,
     "metadata": {},
     "output_type": "execute_result"
    }
   ],
   "source": [
    "\"\"\" Negative indexing \"\"\"\n",
    "\n",
    "#negative indexign start at end with -1\n",
    "\n"
   ]
  },
  {
   "cell_type": "code",
   "execution_count": null,
   "id": "c371174f",
   "metadata": {},
   "outputs": [
    {
     "name": "stdout",
     "output_type": "stream",
     "text": [
      "\n"
     ]
    }
   ],
   "source": []
  },
  {
   "cell_type": "code",
   "execution_count": 5,
   "id": "e27c5901",
   "metadata": {},
   "outputs": [
    {
     "name": "stdout",
     "output_type": "stream",
     "text": [
      "Pyhton is high level languag\n"
     ]
    }
   ],
   "source": [
    "txt=\"Pyhton is high level language\"\n",
    "print(txt[:-1])"
   ]
  },
  {
   "cell_type": "code",
   "execution_count": null,
   "id": "fa3cd595",
   "metadata": {},
   "outputs": [
    {
     "name": "stdout",
     "output_type": "stream",
     "text": [
      "My anem is Yogesh\n"
     ]
    }
   ],
   "source": [
    "txt=\"My anem is Yogesh\"\n",
    "print(txt[-20:])"
   ]
  },
  {
   "cell_type": "code",
   "execution_count": null,
   "id": "0500f188",
   "metadata": {},
   "outputs": [
    {
     "name": "stdout",
     "output_type": "stream",
     "text": [
      "hello world\n"
     ]
    }
   ],
   "source": [
    "txt=\"hello world\"# negative start end cannot work with negative step\n",
    "print(txt[-20::1])"
   ]
  },
  {
   "cell_type": "code",
   "execution_count": null,
   "id": "4c942df6",
   "metadata": {},
   "outputs": [],
   "source": []
  }
 ],
 "metadata": {
  "kernelspec": {
   "display_name": "Python 3",
   "language": "python",
   "name": "python3"
  },
  "language_info": {
   "codemirror_mode": {
    "name": "ipython",
    "version": 3
   },
   "file_extension": ".py",
   "mimetype": "text/x-python",
   "name": "python",
   "nbconvert_exporter": "python",
   "pygments_lexer": "ipython3",
   "version": "3.12.4"
  }
 },
 "nbformat": 4,
 "nbformat_minor": 5
}
