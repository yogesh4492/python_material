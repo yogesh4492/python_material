{
 "cells": [
  {
   "cell_type": "code",
   "execution_count": 1,
   "id": "eaabe18c",
   "metadata": {},
   "outputs": [
    {
     "data": {
      "text/plain": [
       "'Tricks For Slicing'"
      ]
     },
     "execution_count": 1,
     "metadata": {},
     "output_type": "execute_result"
    }
   ],
   "source": [
    "\"\"\"Tricks For Slicing\"\"\""
   ]
  },
  {
   "cell_type": "code",
   "execution_count": 2,
   "id": "62093858",
   "metadata": {},
   "outputs": [
    {
     "name": "stdout",
     "output_type": "stream",
     "text": [
      "hsegoY si emaN yM\n"
     ]
    }
   ],
   "source": [
    "# reverse string\n",
    "\n",
    "text=\"My Name is Yogesh\"\n",
    "print(text[::-1])"
   ]
  },
  {
   "cell_type": "code",
   "execution_count": 3,
   "id": "c4dd6b78",
   "metadata": {},
   "outputs": [
    {
     "name": "stdout",
     "output_type": "stream",
     "text": [
      "True\n"
     ]
    }
   ],
   "source": [
    "# check palindrome\n",
    "text=\"madam\"\n",
    "print(text==text[::-1])"
   ]
  },
  {
   "cell_type": "code",
   "execution_count": 4,
   "id": "588c7777",
   "metadata": {},
   "outputs": [
    {
     "name": "stdout",
     "output_type": "stream",
     "text": [
      "MyNameisYogesh\n"
     ]
    }
   ],
   "source": [
    "# skip spaces\n",
    "text=\"My Name is Yogesh\"\n",
    "print(text.replace(\" \",\"\")[::1])"
   ]
  },
  {
   "cell_type": "code",
   "execution_count": 6,
   "id": "de7b2175",
   "metadata": {},
   "outputs": [
    {
     "name": "stdout",
     "output_type": "stream",
     "text": [
      "hlool\n",
      "elwrd\n"
     ]
    }
   ],
   "source": [
    "#even and odd index\n",
    "text=\"helloworld\"\n",
    "print(text[::2]) #even\n",
    "print(text[1::2])#odd"
   ]
  },
  {
   "cell_type": "code",
   "execution_count": null,
   "id": "af271495",
   "metadata": {},
   "outputs": [],
   "source": []
  }
 ],
 "metadata": {
  "kernelspec": {
   "display_name": "Python 3",
   "language": "python",
   "name": "python3"
  },
  "language_info": {
   "codemirror_mode": {
    "name": "ipython",
    "version": 3
   },
   "file_extension": ".py",
   "mimetype": "text/x-python",
   "name": "python",
   "nbconvert_exporter": "python",
   "pygments_lexer": "ipython3",
   "version": "3.12.4"
  }
 },
 "nbformat": 4,
 "nbformat_minor": 5
}
