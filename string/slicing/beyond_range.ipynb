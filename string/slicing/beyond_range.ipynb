{
 "cells": [
  {
   "cell_type": "code",
   "execution_count": 1,
   "id": "23669d9f",
   "metadata": {},
   "outputs": [
    {
     "data": {
      "text/plain": [
       "'beyond range'"
      ]
     },
     "execution_count": 1,
     "metadata": {},
     "output_type": "execute_result"
    }
   ],
   "source": [
    "\"\"\"beyond range\"\"\"\n",
    "#if range is out of world it not throw error\n"
   ]
  },
  {
   "cell_type": "code",
   "execution_count": 3,
   "id": "e1a9ec35",
   "metadata": {},
   "outputs": [
    {
     "name": "stdout",
     "output_type": "stream",
     "text": [
      "Python is huige library support\n"
     ]
    }
   ],
   "source": [
    "txt=\"Python is huige library support\"\n",
    "print(txt[0:100])"
   ]
  },
  {
   "cell_type": "code",
   "execution_count": 4,
   "id": "7832ca38",
   "metadata": {},
   "outputs": [
    {
     "name": "stdout",
     "output_type": "stream",
     "text": [
      "Python is huige library support\n"
     ]
    }
   ],
   "source": [
    "txt=\"Python is huige library support\"\n",
    "print(txt[-100:])"
   ]
  },
  {
   "cell_type": "code",
   "execution_count": null,
   "id": "5b6891e2",
   "metadata": {},
   "outputs": [
    {
     "name": "stdout",
     "output_type": "stream",
     "text": [
      "\n"
     ]
    }
   ],
   "source": [
    "txt=\"Python is huige library support\"\n",
    "print(txt[100:200])#empty"
   ]
  },
  {
   "cell_type": "code",
   "execution_count": null,
   "id": "a2cb2bc0",
   "metadata": {},
   "outputs": [],
   "source": []
  }
 ],
 "metadata": {
  "kernelspec": {
   "display_name": "Python 3",
   "language": "python",
   "name": "python3"
  },
  "language_info": {
   "codemirror_mode": {
    "name": "ipython",
    "version": 3
   },
   "file_extension": ".py",
   "mimetype": "text/x-python",
   "name": "python",
   "nbconvert_exporter": "python",
   "pygments_lexer": "ipython3",
   "version": "3.12.4"
  }
 },
 "nbformat": 4,
 "nbformat_minor": 5
}
