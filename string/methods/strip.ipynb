{
 "cells": [
  {
   "cell_type": "code",
   "execution_count": 1,
   "id": "5f2322f3",
   "metadata": {},
   "outputs": [
    {
     "data": {
      "text/plain": [
       "' Strip Method '"
      ]
     },
     "execution_count": 1,
     "metadata": {},
     "output_type": "execute_result"
    }
   ],
   "source": [
    "\"\"\" Strip Method \"\"\"\n",
    "\n",
    "#strip is used to remove space from start and also from end \n",
    "# its als work with specific character\n",
    "#syntax:\n",
    " # string.strip([char])"
   ]
  },
  {
   "cell_type": "code",
   "execution_count": 6,
   "id": "6752d8ae",
   "metadata": {},
   "outputs": [
    {
     "name": "stdout",
     "output_type": "stream",
     "text": [
      "welcome\n"
     ]
    }
   ],
   "source": [
    "txt=\"###welcome***\"\n",
    "print(txt.strip(\"#*\"))"
   ]
  },
  {
   "cell_type": "code",
   "execution_count": null,
   "id": "b2bc6f47",
   "metadata": {},
   "outputs": [],
   "source": []
  },
  {
   "cell_type": "code",
   "execution_count": null,
   "id": "531f4408",
   "metadata": {},
   "outputs": [],
   "source": []
  }
 ],
 "metadata": {
  "kernelspec": {
   "display_name": "Python 3",
   "language": "python",
   "name": "python3"
  },
  "language_info": {
   "codemirror_mode": {
    "name": "ipython",
    "version": 3
   },
   "file_extension": ".py",
   "mimetype": "text/x-python",
   "name": "python",
   "nbconvert_exporter": "python",
   "pygments_lexer": "ipython3",
   "version": "3.12.4"
  }
 },
 "nbformat": 4,
 "nbformat_minor": 5
}
