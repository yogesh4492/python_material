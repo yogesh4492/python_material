{
 "cells": [
  {
   "cell_type": "code",
   "execution_count": null,
   "id": "f6784f3f",
   "metadata": {},
   "outputs": [
    {
     "data": {
      "text/plain": [
       "' isascii method '"
      ]
     },
     "execution_count": 1,
     "metadata": {},
     "output_type": "execute_result"
    }
   ],
   "source": [
    "\"\"\" isascii method \"\"\"\n",
    "# its also validation method of string\n",
    "# its check character of string a range between (0-127)\n",
    "# retur  true if string is emtpty\n",
    "# return true if space ,special symbol\n",
    "# return false only when unicode charactere in string\n",
    "# syntax:\n",
    "# string.isascii()\n",
    "\n"
   ]
  },
  {
   "cell_type": "code",
   "execution_count": null,
   "id": "9dea3845",
   "metadata": {},
   "outputs": [
    {
     "name": "stdout",
     "output_type": "stream",
     "text": [
      "True\n"
     ]
    }
   ],
   "source": [
    "txt=\"python\"\n",
    "print(txt.isascii())"
   ]
  },
  {
   "cell_type": "code",
   "execution_count": 4,
   "id": "1fcea2f5",
   "metadata": {},
   "outputs": [
    {
     "name": "stdout",
     "output_type": "stream",
     "text": [
      "True\n"
     ]
    }
   ],
   "source": [
    "txt=\"python123\"\n",
    "print(txt.isascii())"
   ]
  },
  {
   "cell_type": "code",
   "execution_count": 5,
   "id": "4af50cd2",
   "metadata": {},
   "outputs": [
    {
     "name": "stdout",
     "output_type": "stream",
     "text": [
      "True\n"
     ]
    }
   ],
   "source": [
    "txt=\"pytho n\"\n",
    "print(txt.isascii())"
   ]
  },
  {
   "cell_type": "code",
   "execution_count": 6,
   "id": "58e18bb2",
   "metadata": {},
   "outputs": [
    {
     "name": "stdout",
     "output_type": "stream",
     "text": [
      "True\n"
     ]
    }
   ],
   "source": [
    "txt=\"\"\n",
    "print(txt.isascii())"
   ]
  },
  {
   "cell_type": "code",
   "execution_count": 7,
   "id": "4e02112f",
   "metadata": {},
   "outputs": [
    {
     "name": "stdout",
     "output_type": "stream",
     "text": [
      "False\n"
     ]
    }
   ],
   "source": [
    "txt=\"ય\"\n",
    "print(txt.isascii())"
   ]
  },
  {
   "cell_type": "code",
   "execution_count": null,
   "id": "62d5abd5",
   "metadata": {},
   "outputs": [],
   "source": []
  }
 ],
 "metadata": {
  "kernelspec": {
   "display_name": "Python 3",
   "language": "python",
   "name": "python3"
  },
  "language_info": {
   "codemirror_mode": {
    "name": "ipython",
    "version": 3
   },
   "file_extension": ".py",
   "mimetype": "text/x-python",
   "name": "python",
   "nbconvert_exporter": "python",
   "pygments_lexer": "ipython3",
   "version": "3.12.4"
  }
 },
 "nbformat": 4,
 "nbformat_minor": 5
}
