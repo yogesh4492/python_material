{
 "cells": [
  {
   "cell_type": "code",
   "execution_count": null,
   "id": "5647d2bd",
   "metadata": {},
   "outputs": [
    {
     "data": {
      "text/plain": [
       "'Count method'"
      ]
     },
     "execution_count": 1,
     "metadata": {},
     "output_type": "execute_result"
    }
   ],
   "source": [
    "\"\"\"Count method\"\"\"\n",
    "\n",
    "# this method is searching and finding method\n",
    "#count returns how may times substring in main string\n",
    "# it also work within range\n",
    "\n",
    "#remeber\n",
    "# count is case sensitive so also convert string first in lower or upper case based on substring\n",
    "#count is non overlapping occurence\n",
    "\n",
    "#syntax\n",
    "# string.count(substring,start=0,end=len(string))\n",
    "\n",
    "# there are three parameter\n",
    "  #substring - text for searching\n",
    "  #start optinal by default 0\n",
    "  #end optinal by default lennght of string\n"
   ]
  },
  {
   "cell_type": "code",
   "execution_count": 5,
   "id": "a7a2c6be",
   "metadata": {},
   "outputs": [
    {
     "name": "stdout",
     "output_type": "stream",
     "text": [
      "3\n"
     ]
    }
   ],
   "source": [
    "#example\n",
    "\n",
    "txt=\"Python Programming is fun\"\n",
    "txt=txt.lower()\n",
    "print(txt.count(\"n\"))"
   ]
  },
  {
   "cell_type": "code",
   "execution_count": 6,
   "id": "e7098a00",
   "metadata": {},
   "outputs": [
    {
     "name": "stdout",
     "output_type": "stream",
     "text": [
      "0\n"
     ]
    }
   ],
   "source": [
    "# it return 0 if substring not found\n",
    "\n",
    "txt=\"Yogesh\"\n",
    "print(txt.count(\"a\"))\n"
   ]
  },
  {
   "cell_type": "code",
   "execution_count": 9,
   "id": "e4f5e008",
   "metadata": {},
   "outputs": [
    {
     "name": "stdout",
     "output_type": "stream",
     "text": [
      "1\n"
     ]
    }
   ],
   "source": [
    "txt=\"yogesh is very honest.yogesh is very clever\"\n",
    "print(txt.count(\"yogesh\",0,20))\n",
    "#count in range\n"
   ]
  },
  {
   "cell_type": "code",
   "execution_count": null,
   "id": "7c28e1f6",
   "metadata": {},
   "outputs": [],
   "source": []
  }
 ],
 "metadata": {
  "kernelspec": {
   "display_name": "Python 3",
   "language": "python",
   "name": "python3"
  },
  "language_info": {
   "codemirror_mode": {
    "name": "ipython",
    "version": 3
   },
   "file_extension": ".py",
   "mimetype": "text/x-python",
   "name": "python",
   "nbconvert_exporter": "python",
   "pygments_lexer": "ipython3",
   "version": "3.12.4"
  }
 },
 "nbformat": 4,
 "nbformat_minor": 5
}
