{
 "cells": [
  {
   "cell_type": "code",
   "execution_count": null,
   "id": "5c9e1e63",
   "metadata": {},
   "outputs": [
    {
     "data": {
      "text/plain": [
       "' lstrip method'"
      ]
     },
     "execution_count": 1,
     "metadata": {},
     "output_type": "execute_result"
    }
   ],
   "source": [
    "\"\"\" lstrip method\"\"\"\n",
    "#this is stroipping and joi =ning method\n",
    "\n",
    "#this method used to remove or strip left side content\n",
    "\n",
    "#by default this can remove space \n",
    "\n",
    "# 3 we are also able remove left side specific character\n",
    "# syntax:\n",
    "#  string.lstrip([char])\n"
   ]
  },
  {
   "cell_type": "code",
   "execution_count": 9,
   "id": "0b493a0f",
   "metadata": {},
   "outputs": [
    {
     "name": "stdout",
     "output_type": "stream",
     "text": [
      "python--------------         \n"
     ]
    }
   ],
   "source": [
    "txt=\"---------------             python--------------         \"\n",
    "print(txt.lstrip(\"- \"))"
   ]
  },
  {
   "cell_type": "code",
   "execution_count": null,
   "id": "770715c8",
   "metadata": {},
   "outputs": [],
   "source": []
  },
  {
   "cell_type": "code",
   "execution_count": null,
   "id": "de7563ba",
   "metadata": {},
   "outputs": [],
   "source": []
  }
 ],
 "metadata": {
  "kernelspec": {
   "display_name": "Python 3",
   "language": "python",
   "name": "python3"
  },
  "language_info": {
   "codemirror_mode": {
    "name": "ipython",
    "version": 3
   },
   "file_extension": ".py",
   "mimetype": "text/x-python",
   "name": "python",
   "nbconvert_exporter": "python",
   "pygments_lexer": "ipython3",
   "version": "3.12.4"
  }
 },
 "nbformat": 4,
 "nbformat_minor": 5
}
