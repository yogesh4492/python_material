{
 "cells": [
  {
   "cell_type": "code",
   "execution_count": null,
   "id": "4f0a5227",
   "metadata": {},
   "outputs": [],
   "source": [
    "\"\"\" islower method\"\"\"\n",
    "# its check all character in string isin lowercase\n",
    "# it sreturn true even number present special symbol in string if character in string in lowercase\n",
    "# return False\n",
    "#  when no character in string \n",
    "# when upercase character in string\n",
    "#syntax:\n",
    " #string.islower()"
   ]
  },
  {
   "cell_type": "code",
   "execution_count": 1,
   "id": "b0105000",
   "metadata": {},
   "outputs": [
    {
     "name": "stdout",
     "output_type": "stream",
     "text": [
      "True\n"
     ]
    }
   ],
   "source": [
    "txt=\"yogesh@123\"\n",
    "print(txt.islower())"
   ]
  },
  {
   "cell_type": "code",
   "execution_count": 2,
   "id": "89636254",
   "metadata": {},
   "outputs": [
    {
     "name": "stdout",
     "output_type": "stream",
     "text": [
      "False\n"
     ]
    }
   ],
   "source": [
    "txt=\"\"\n",
    "print(txt.islower())"
   ]
  },
  {
   "cell_type": "code",
   "execution_count": 4,
   "id": "fb685e59",
   "metadata": {},
   "outputs": [
    {
     "name": "stdout",
     "output_type": "stream",
     "text": [
      "False\n"
     ]
    }
   ],
   "source": [
    "txt=\"yOg@123\"\n",
    "print(txt.islower())"
   ]
  },
  {
   "cell_type": "code",
   "execution_count": 5,
   "id": "1e2a616e",
   "metadata": {},
   "outputs": [
    {
     "name": "stdout",
     "output_type": "stream",
     "text": [
      "False\n"
     ]
    }
   ],
   "source": [
    "txt=\"124\"\n",
    "print(txt.islower())"
   ]
  },
  {
   "cell_type": "code",
   "execution_count": null,
   "id": "896d2f98",
   "metadata": {},
   "outputs": [],
   "source": []
  }
 ],
 "metadata": {
  "kernelspec": {
   "display_name": "Python 3",
   "language": "python",
   "name": "python3"
  },
  "language_info": {
   "codemirror_mode": {
    "name": "ipython",
    "version": 3
   },
   "file_extension": ".py",
   "mimetype": "text/x-python",
   "name": "python",
   "nbconvert_exporter": "python",
   "pygments_lexer": "ipython3",
   "version": "3.12.4"
  }
 },
 "nbformat": 4,
 "nbformat_minor": 5
}
