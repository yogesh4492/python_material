{
 "cells": [
  {
   "cell_type": "code",
   "execution_count": 1,
   "id": "1cf2fb1e",
   "metadata": {},
   "outputs": [
    {
     "data": {
      "text/plain": [
       "' Start With Method'"
      ]
     },
     "execution_count": 1,
     "metadata": {},
     "output_type": "execute_result"
    }
   ],
   "source": [
    "\"\"\" Start With Method\"\"\"\n",
    "\n",
    "# 3 this method check string start with pecifix substring \n",
    "# returun true if yes else retrun false\n",
    "# syntax\n",
    "#  string.startswith(prefix,start,end)\n",
    "#  prefix is substring\n",
    "# start is optional by defaiult 0\n",
    "#  end is optional by default len(string)"
   ]
  },
  {
   "cell_type": "code",
   "execution_count": 2,
   "id": "34f4eaf6",
   "metadata": {},
   "outputs": [
    {
     "name": "stdout",
     "output_type": "stream",
     "text": [
      "True\n"
     ]
    }
   ],
   "source": [
    "txt=\"https://hello world\"\n",
    "print(txt.startswith(\"https://\"))"
   ]
  },
  {
   "cell_type": "code",
   "execution_count": null,
   "id": "ca9e7803",
   "metadata": {},
   "outputs": [],
   "source": []
  }
 ],
 "metadata": {
  "kernelspec": {
   "display_name": "Python 3",
   "language": "python",
   "name": "python3"
  },
  "language_info": {
   "codemirror_mode": {
    "name": "ipython",
    "version": 3
   },
   "file_extension": ".py",
   "mimetype": "text/x-python",
   "name": "python",
   "nbconvert_exporter": "python",
   "pygments_lexer": "ipython3",
   "version": "3.12.4"
  }
 },
 "nbformat": 4,
 "nbformat_minor": 5
}
