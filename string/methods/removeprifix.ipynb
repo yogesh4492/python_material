{
 "cells": [
  {
   "cell_type": "code",
   "execution_count": null,
   "id": "c836fe2a",
   "metadata": {},
   "outputs": [
    {
     "data": {
      "text/plain": [
       "'Remove prefix method '"
      ]
     },
     "execution_count": 1,
     "metadata": {},
     "output_type": "execute_result"
    }
   ],
   "source": [
    "\"\"\"Remove prefix method \"\"\"\n",
    "\n",
    "# this method is used to removeprefix from string\n",
    "# syntax:\n",
    "#    string.removeprefix(prefix)\n",
    "# only work if prefix at start of word"
   ]
  },
  {
   "cell_type": "code",
   "execution_count": 3,
   "id": "b5fabe75",
   "metadata": {},
   "outputs": [
    {
     "name": "stdout",
     "output_type": "stream",
     "text": [
      "lopy\n"
     ]
    }
   ],
   "source": [
    "txt=\"hellopy\"\n",
    "print(txt.removeprefix(\"hel\"))"
   ]
  },
  {
   "cell_type": "code",
   "execution_count": null,
   "id": "55acfeb2",
   "metadata": {},
   "outputs": [
    {
     "name": "stdout",
     "output_type": "stream",
     "text": [
      "hello world\n"
     ]
    }
   ],
   "source": [
    "txt=\"hello world\"\n",
    "print(txt.removeprefix(\"wor\")) # dont work"
   ]
  },
  {
   "cell_type": "code",
   "execution_count": null,
   "id": "e178e617",
   "metadata": {},
   "outputs": [],
   "source": []
  }
 ],
 "metadata": {
  "kernelspec": {
   "display_name": "Python 3",
   "language": "python",
   "name": "python3"
  },
  "language_info": {
   "codemirror_mode": {
    "name": "ipython",
    "version": 3
   },
   "file_extension": ".py",
   "mimetype": "text/x-python",
   "name": "python",
   "nbconvert_exporter": "python",
   "pygments_lexer": "ipython3",
   "version": "3.12.4"
  }
 },
 "nbformat": 4,
 "nbformat_minor": 5
}
