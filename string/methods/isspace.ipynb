{
 "cells": [
  {
   "cell_type": "code",
   "execution_count": null,
   "id": "90855a31",
   "metadata": {},
   "outputs": [
    {
     "data": {
      "text/plain": [
       "' isspace method'"
      ]
     },
     "execution_count": 1,
     "metadata": {},
     "output_type": "execute_result"
    }
   ],
   "source": [
    "\"\"\" isspace method\"\"\"\n",
    "# its return true\n",
    "# if onlyspace in string\n",
    "#if only escape sequence\n",
    "\n",
    "#return false\n",
    "#empty string\n",
    "# character in string\n",
    "\n",
    "# #syntax:\n",
    "#   string.isspace()"
   ]
  },
  {
   "cell_type": "code",
   "execution_count": 2,
   "id": "ab6b3405",
   "metadata": {},
   "outputs": [
    {
     "name": "stdout",
     "output_type": "stream",
     "text": [
      "True\n"
     ]
    }
   ],
   "source": [
    "txt=\" \"\n",
    "print(txt.isspace())"
   ]
  },
  {
   "cell_type": "code",
   "execution_count": 5,
   "id": "a50405be",
   "metadata": {},
   "outputs": [
    {
     "name": "stdout",
     "output_type": "stream",
     "text": [
      "True\n"
     ]
    }
   ],
   "source": [
    "txt=\"\\n\"\n",
    "print(txt.isspace())"
   ]
  },
  {
   "cell_type": "code",
   "execution_count": 6,
   "id": "3f469826",
   "metadata": {},
   "outputs": [
    {
     "name": "stdout",
     "output_type": "stream",
     "text": [
      "False\n"
     ]
    }
   ],
   "source": [
    "txt=\"\"\n",
    "print(txt.isspace())"
   ]
  },
  {
   "cell_type": "code",
   "execution_count": 7,
   "id": "9671386a",
   "metadata": {},
   "outputs": [
    {
     "name": "stdout",
     "output_type": "stream",
     "text": [
      "False\n"
     ]
    }
   ],
   "source": [
    "txt=\"  a  \"\n",
    "print(txt.isspace())"
   ]
  },
  {
   "cell_type": "code",
   "execution_count": null,
   "id": "be88bd5c",
   "metadata": {},
   "outputs": [],
   "source": []
  }
 ],
 "metadata": {
  "kernelspec": {
   "display_name": "Python 3",
   "language": "python",
   "name": "python3"
  },
  "language_info": {
   "codemirror_mode": {
    "name": "ipython",
    "version": 3
   },
   "file_extension": ".py",
   "mimetype": "text/x-python",
   "name": "python",
   "nbconvert_exporter": "python",
   "pygments_lexer": "ipython3",
   "version": "3.12.4"
  }
 },
 "nbformat": 4,
 "nbformat_minor": 5
}
