{
 "cells": [
  {
   "cell_type": "code",
   "execution_count": null,
   "id": "37c075d8",
   "metadata": {},
   "outputs": [
    {
     "data": {
      "text/plain": [
       "' replace MEthod '"
      ]
     },
     "execution_count": 3,
     "metadata": {},
     "output_type": "execute_result"
    }
   ],
   "source": [
    "\"\"\" replace MEthod \"\"\"\n",
    "# this method is usedd to replace character or word from string and return modified string\n",
    "#the original string remain unchanged\n",
    "# you can also able set how many time you want to replace by default it replace all\n",
    "\n",
    "#syntax:\n",
    "#   string.replace(old,new,count)\n",
    "\n",
    "#count is by default all\n"
   ]
  },
  {
   "cell_type": "code",
   "execution_count": 6,
   "id": "30b39848",
   "metadata": {},
   "outputs": [
    {
     "name": "stdout",
     "output_type": "stream",
     "text": [
      "Java Is Interpreted language Java is High level Language\n"
     ]
    }
   ],
   "source": [
    "txt=\"Python Is Interpreted language Python is High level Language\"\n",
    "print(txt.replace(\"Python\",\"Java\"))"
   ]
  },
  {
   "cell_type": "code",
   "execution_count": 7,
   "id": "63099060",
   "metadata": {},
   "outputs": [
    {
     "name": "stdout",
     "output_type": "stream",
     "text": [
      "Java Is Interpreted language Python is High level Language\n"
     ]
    }
   ],
   "source": [
    "#limited\n",
    "txt=\"Python Is Interpreted language Python is High level Language\"\n",
    "print(txt.replace(\"Python\",\"Java\",1))"
   ]
  },
  {
   "cell_type": "code",
   "execution_count": null,
   "id": "8bb9a14d",
   "metadata": {},
   "outputs": [],
   "source": []
  }
 ],
 "metadata": {
  "kernelspec": {
   "display_name": "Python 3",
   "language": "python",
   "name": "python3"
  },
  "language_info": {
   "codemirror_mode": {
    "name": "ipython",
    "version": 3
   },
   "file_extension": ".py",
   "mimetype": "text/x-python",
   "name": "python",
   "nbconvert_exporter": "python",
   "pygments_lexer": "ipython3",
   "version": "3.12.4"
  }
 },
 "nbformat": 4,
 "nbformat_minor": 5
}
