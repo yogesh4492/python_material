{
 "cells": [
  {
   "cell_type": "code",
   "execution_count": null,
   "id": "785b5e9b",
   "metadata": {},
   "outputs": [],
   "source": [
    "\"\"\" encode method\"\"\"\n",
    "\n",
    "# - this method used to encode the string into bytes\n",
    "# -  mostly used for work on network and file \n",
    "# - syntax:\n",
    "#    string.encode(encoding=\"utf-8\",errors=\"strict\")\n",
    "# - two parameter \n",
    "#   - encoding the string in encoding utf-8,utf-16,ascii\n",
    "# - errors : what to do if chracter not encode\n",
    "#       1.strict :raise an error by default\n",
    "#       2.ignore:ignore the character\n",
    "#       3.replace:replace with ?\n",
    "# notice:return b'' its prefix"
   ]
  },
  {
   "cell_type": "code",
   "execution_count": null,
   "id": "1d3410ea",
   "metadata": {},
   "outputs": [
    {
     "name": "stdout",
     "output_type": "stream",
     "text": [
      "b'Python'\n"
     ]
    }
   ],
   "source": [
    "txt=\"Python\"\n",
    "print(txt.encode())#by default utf-8"
   ]
  },
  {
   "cell_type": "code",
   "execution_count": null,
   "id": "23a867c5",
   "metadata": {},
   "outputs": [
    {
     "name": "stdout",
     "output_type": "stream",
     "text": [
      "b'\\xff\\xfep\\x00y\\x00t\\x00h\\x00o\\x00~\\x00n\\x00'\n"
     ]
    }
   ],
   "source": [
    "txt=\"python\"\n",
    "print(txt.encode(\"utf-16\"))"
   ]
  },
  {
   "cell_type": "code",
   "execution_count": null,
   "id": "50fb6478",
   "metadata": {},
   "outputs": [
    {
     "name": "stdout",
     "output_type": "stream",
     "text": [
      "b'pyth`n'\n"
     ]
    }
   ],
   "source": [
    "txt=\"python\"\n",
    "print(txt.encode(\"ascii\"))"
   ]
  },
  {
   "cell_type": "code",
   "execution_count": 11,
   "id": "08037dc2",
   "metadata": {},
   "outputs": [
    {
     "name": "stdout",
     "output_type": "stream",
     "text": [
      "b'\\xff\\xfep\\x00y\\x00t\\x00h\\x00o\\x00n\\x00'\n"
     ]
    }
   ],
   "source": [
    "txt=\"python\"\n",
    "print(txt.encode(\"utf-16\",errors=\"ignore\"))"
   ]
  },
  {
   "cell_type": "code",
   "execution_count": null,
   "id": "266e4aa5",
   "metadata": {},
   "outputs": [],
   "source": []
  }
 ],
 "metadata": {
  "kernelspec": {
   "display_name": "Python 3",
   "language": "python",
   "name": "python3"
  },
  "language_info": {
   "codemirror_mode": {
    "name": "ipython",
    "version": 3
   },
   "file_extension": ".py",
   "mimetype": "text/x-python",
   "name": "python",
   "nbconvert_exporter": "python",
   "pygments_lexer": "ipython3",
   "version": "3.12.4"
  }
 },
 "nbformat": 4,
 "nbformat_minor": 5
}
