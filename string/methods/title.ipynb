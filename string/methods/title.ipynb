{
 "cells": [
  {
   "cell_type": "code",
   "execution_count": 1,
   "id": "88d9f18e",
   "metadata": {},
   "outputs": [
    {
     "data": {
      "text/plain": [
       "' title method'"
      ]
     },
     "execution_count": 1,
     "metadata": {},
     "output_type": "execute_result"
    }
   ],
   "source": [
    "\"\"\" title method\"\"\"\n",
    "\n",
    "# this method is also case conversion method \n",
    "# this method convert all word first letter into capital\n",
    "# syntax:\n",
    "#    string.title()"
   ]
  },
  {
   "cell_type": "code",
   "execution_count": 2,
   "id": "0ed1eb82",
   "metadata": {},
   "outputs": [
    {
     "name": "stdout",
     "output_type": "stream",
     "text": [
      "My Name Is Yogesh\n"
     ]
    }
   ],
   "source": [
    "txt=\"my name is yogesh\"\n",
    "print(txt.title())"
   ]
  },
  {
   "cell_type": "code",
   "execution_count": null,
   "id": "d0876477",
   "metadata": {},
   "outputs": [],
   "source": []
  }
 ],
 "metadata": {
  "kernelspec": {
   "display_name": "Python 3",
   "language": "python",
   "name": "python3"
  },
  "language_info": {
   "codemirror_mode": {
    "name": "ipython",
    "version": 3
   },
   "file_extension": ".py",
   "mimetype": "text/x-python",
   "name": "python",
   "nbconvert_exporter": "python",
   "pygments_lexer": "ipython3",
   "version": "3.12.4"
  }
 },
 "nbformat": 4,
 "nbformat_minor": 5
}
