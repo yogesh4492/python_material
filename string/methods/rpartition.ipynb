{
 "cells": [
  {
   "cell_type": "code",
   "execution_count": null,
   "id": "9c74da55",
   "metadata": {},
   "outputs": [
    {
     "data": {
      "text/plain": [
       "'Rpartition method '"
      ]
     },
     "execution_count": 1,
     "metadata": {},
     "output_type": "execute_result"
    }
   ],
   "source": [
    "\"\"\"Rpartition method \"\"\"\n",
    "# part the string in 3 part\n",
    "# work in right to left\n",
    "#same as partition but not work left to right\n",
    "#syntax:\n",
    "# string.rpartition(separator)\n"
   ]
  },
  {
   "cell_type": "code",
   "execution_count": null,
   "id": "bc4ba5a3",
   "metadata": {},
   "outputs": [
    {
     "name": "stdout",
     "output_type": "stream",
     "text": [
      "('python is ', 'high', '')\n"
     ]
    }
   ],
   "source": [
    "txt=\"python is high\"\n",
    "print(txt.rpartition(\"high\"))"
   ]
  },
  {
   "cell_type": "code",
   "execution_count": null,
   "id": "28ce687b",
   "metadata": {},
   "outputs": [],
   "source": []
  }
 ],
 "metadata": {
  "kernelspec": {
   "display_name": "Python 3",
   "language": "python",
   "name": "python3"
  },
  "language_info": {
   "codemirror_mode": {
    "name": "ipython",
    "version": 3
   },
   "file_extension": ".py",
   "mimetype": "text/x-python",
   "name": "python",
   "nbconvert_exporter": "python",
   "pygments_lexer": "ipython3",
   "version": "3.12.4"
  }
 },
 "nbformat": 4,
 "nbformat_minor": 5
}
