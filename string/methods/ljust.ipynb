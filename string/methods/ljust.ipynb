{
 "cells": [
  {
   "cell_type": "code",
   "execution_count": null,
   "id": "11b92658",
   "metadata": {},
   "outputs": [
    {
     "data": {
      "text/plain": [
       "' ljust method '"
      ]
     },
     "execution_count": 1,
     "metadata": {},
     "output_type": "execute_result"
    }
   ],
   "source": [
    "\"\"\" ljust method \"\"\"\n",
    "# this is formating/allignment  method \n",
    "#there are give space ,any symbol at the end of string\n",
    "#syntax:\n",
    " # string.ljust(width,fillchar=\"\")\n",
    "   #width means how many space or any symbol\n",
    "   #fillchar by default is space\n",
    "\n",
    "\n"
   ]
  },
  {
   "cell_type": "code",
   "execution_count": 3,
   "id": "fb39de78",
   "metadata": {},
   "outputs": [
    {
     "name": "stdout",
     "output_type": "stream",
     "text": [
      "python----\n"
     ]
    }
   ],
   "source": [
    "txt=\"python\"\n",
    "print(txt.ljust(10,\"-\"))"
   ]
  },
  {
   "cell_type": "code",
   "execution_count": null,
   "id": "53f53ad2",
   "metadata": {},
   "outputs": [],
   "source": []
  }
 ],
 "metadata": {
  "kernelspec": {
   "display_name": "Python 3",
   "language": "python",
   "name": "python3"
  },
  "language_info": {
   "codemirror_mode": {
    "name": "ipython",
    "version": 3
   },
   "file_extension": ".py",
   "mimetype": "text/x-python",
   "name": "python",
   "nbconvert_exporter": "python",
   "pygments_lexer": "ipython3",
   "version": "3.12.4"
  }
 },
 "nbformat": 4,
 "nbformat_minor": 5
}
