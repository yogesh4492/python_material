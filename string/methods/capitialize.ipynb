{
 "cells": [
  {
   "cell_type": "code",
   "execution_count": null,
   "id": "5537b61b",
   "metadata": {},
   "outputs": [],
   "source": [
    "\"\"\"  Capitalize method \"\"\"\n",
    "\n",
    "# this method is case conversion method\n",
    "# This MEthod is used for convert first charcter of string to upercase \n",
    "# it cannot effect string if first character is digit or special symbol\n",
    "\n",
    "# syntax:\n",
    "# var.capitalize()"
   ]
  },
  {
   "cell_type": "code",
   "execution_count": 1,
   "id": "36c5110f",
   "metadata": {},
   "outputs": [
    {
     "name": "stdout",
     "output_type": "stream",
     "text": [
      "Hello my name is yogesh\n"
     ]
    }
   ],
   "source": [
    "name=\"hello My name is Yogesh\"\n",
    "print(name.capitalize())"
   ]
  },
  {
   "cell_type": "code",
   "execution_count": 2,
   "id": "a692afdc",
   "metadata": {},
   "outputs": [
    {
     "name": "stdout",
     "output_type": "stream",
     "text": [
      "123hello\n"
     ]
    }
   ],
   "source": [
    "name=\"123hello\"\n",
    "print(name.capitalize())#it can't effect string"
   ]
  },
  {
   "cell_type": "code",
   "execution_count": null,
   "id": "03c409ca",
   "metadata": {},
   "outputs": [
    {
     "name": "stdout",
     "output_type": "stream",
     "text": [
      "@hello\n"
     ]
    }
   ],
   "source": [
    "name=\"@hello\"\n",
    "print(name.capitalize())# it can't affect "
   ]
  },
  {
   "cell_type": "code",
   "execution_count": 7,
   "id": "5e896efe",
   "metadata": {},
   "outputs": [
    {
     "name": "stdout",
     "output_type": "stream",
     "text": [
      "   September 2025\n",
      "Mo Tu We Th Fr Sa Su\n",
      " 1  2  3  4  5  6  7\n",
      " 8  9 10 11 12 13 14\n",
      "15 16 17 18 19 20 21\n",
      "22 23 24 25 26 27 28\n",
      "29 30\n",
      "\n"
     ]
    }
   ],
   "source": [
    "import calendar\n",
    "now=calendar.month(2025,9)\n",
    "print(now)"
   ]
  },
  {
   "cell_type": "code",
   "execution_count": 19,
   "id": "9446d2e9",
   "metadata": {},
   "outputs": [
    {
     "name": "stdout",
     "output_type": "stream",
     "text": [
      "Python\n"
     ]
    }
   ],
   "source": [
    "\"\"\"Without inbuilt function\"\"\"\n",
    "\n",
    "text=\"python\"\n",
    "print(text[0].upper(),end=\"\")\n",
    "\n",
    "print(text[1:])\n"
   ]
  },
  {
   "cell_type": "code",
   "execution_count": 26,
   "id": "480250b1",
   "metadata": {},
   "outputs": [
    {
     "name": "stdout",
     "output_type": "stream",
     "text": [
      "Python\n"
     ]
    }
   ],
   "source": [
    "text=\"python\"\n",
    "num=ord(text[0])\n",
    "if num>90 and num<122:\n",
    "    char=num-32\n",
    "print(chr(char),end=\"\")\n",
    "print(text[1:])"
   ]
  },
  {
   "cell_type": "code",
   "execution_count": null,
   "id": "8444def1",
   "metadata": {},
   "outputs": [],
   "source": []
  },
  {
   "cell_type": "code",
   "execution_count": null,
   "id": "9eb27988",
   "metadata": {},
   "outputs": [],
   "source": []
  }
 ],
 "metadata": {
  "kernelspec": {
   "display_name": "Python 3",
   "language": "python",
   "name": "python3"
  },
  "language_info": {
   "codemirror_mode": {
    "name": "ipython",
    "version": 3
   },
   "file_extension": ".py",
   "mimetype": "text/x-python",
   "name": "python",
   "nbconvert_exporter": "python",
   "pygments_lexer": "ipython3",
   "version": "3.12.4"
  }
 },
 "nbformat": 4,
 "nbformat_minor": 5
}
