{
 "cells": [
  {
   "cell_type": "code",
   "execution_count": null,
   "id": "17a99d96",
   "metadata": {},
   "outputs": [],
   "source": [
    "\"\"\" Format method\"\"\"\n",
    "#this method is part of format and alignment string method\n",
    "# one of the mostly used and useful method of string\n",
    "#it alow inserting variables and values into string\n",
    "# support positional,keyword argumwnt\n",
    " # floating point,alignment,padding ,binary hexa pricions\n",
    "# syntax:\n",
    " # string.format(value...key=value)\n",
    "\n"
   ]
  },
  {
   "cell_type": "code",
   "execution_count": 1,
   "id": "f945f478",
   "metadata": {},
   "outputs": [
    {
     "name": "stdout",
     "output_type": "stream",
     "text": [
      "Subject is Python and score is 98 \n"
     ]
    }
   ],
   "source": [
    "#basic usage\n",
    "name=\"Python\"\n",
    "score=98\n",
    "\n",
    "print(\"Subject is {} and score is {} \".format(name,score))"
   ]
  },
  {
   "cell_type": "code",
   "execution_count": 4,
   "id": "572e6792",
   "metadata": {},
   "outputs": [
    {
     "name": "stdout",
     "output_type": "stream",
     "text": [
      "subject is python and score is 99\n"
     ]
    }
   ],
   "source": [
    "# positional\n",
    "\n",
    "name=\"python\"\n",
    "score=99\n",
    "print(\"subject is {0} and score is {1}\".format(name,score))"
   ]
  },
  {
   "cell_type": "code",
   "execution_count": 6,
   "id": "1c0a4f39",
   "metadata": {},
   "outputs": [
    {
     "name": "stdout",
     "output_type": "stream",
     "text": [
      "Subject is python and score is 95\n"
     ]
    }
   ],
   "source": [
    "#keyword argument\n",
    "print(\"Subject is {n} and score is {s}\".format(n=\"python\",s=95))"
   ]
  },
  {
   "cell_type": "code",
   "execution_count": 7,
   "id": "70f6979b",
   "metadata": {},
   "outputs": [
    {
     "name": "stdout",
     "output_type": "stream",
     "text": [
      "subject is 99 and score is python\n"
     ]
    }
   ],
   "source": [
    "#reorder \n",
    "name=\"python\"\n",
    "score=99\n",
    "print(\"subject is {1} and score is {0}\".format(name,score))"
   ]
  },
  {
   "cell_type": "code",
   "execution_count": 17,
   "id": "a61a0abc",
   "metadata": {},
   "outputs": [
    {
     "name": "stdout",
     "output_type": "stream",
     "text": [
      "value=      45\n",
      "subject=    py\n",
      "subject= py   \n",
      "subject=  py  \n"
     ]
    }
   ],
   "source": [
    "#pdding ,alignment,width\n",
    "\n",
    "#by default right align only work with digit cannot work with string\n",
    "print(\"value=   {:5}\".format(45))\n",
    "\n",
    "print(\"subject= {:>5}\".format(\"py\"))# right align\n",
    "\n",
    "print(\"subject= {:<5}\".format(\"py\"))# left align\n",
    "\n",
    "print(\"subject= {:^5}\".format(\"py\"))# center align\n",
    "\n"
   ]
  },
  {
   "cell_type": "code",
   "execution_count": 18,
   "id": "34a08ef9",
   "metadata": {},
   "outputs": [
    {
     "name": "stdout",
     "output_type": "stream",
     "text": [
      "value= 55.56\n"
     ]
    }
   ],
   "source": [
    "#floating point pricision\n",
    "\n",
    "print(\"value= {:.2f}\".format(55.555555))"
   ]
  },
  {
   "cell_type": "code",
   "execution_count": 36,
   "id": "d2faf2c1",
   "metadata": {},
   "outputs": [
    {
     "name": "stdout",
     "output_type": "stream",
     "text": [
      "value = 1\n"
     ]
    }
   ],
   "source": [
    "#integer point\n",
    "print(\"value ={:2}\".format(1))"
   ]
  },
  {
   "cell_type": "code",
   "execution_count": 33,
   "id": "e31c3f46",
   "metadata": {},
   "outputs": [
    {
     "name": "stdout",
     "output_type": "stream",
     "text": [
      "Value = 1011\n",
      "Value ff\n",
      "value 85.60%\n"
     ]
    }
   ],
   "source": [
    "# binary , hexa,percentage\n",
    "\n",
    "print(\"Value = {:b}\".format(11))\n",
    "print(\"Value {:x}\".format(255))\n",
    "print(\"value {:.2%}\".format(0.856))"
   ]
  },
  {
   "cell_type": "code",
   "execution_count": 38,
   "id": "7685a565",
   "metadata": {},
   "outputs": [
    {
     "name": "stdout",
     "output_type": "stream",
     "text": [
      "num= 1,000,000\n"
     ]
    }
   ],
   "source": [
    "#thousand separator\n",
    "num=1000000\n",
    "print(\"num= {:,}\".format(num))"
   ]
  },
  {
   "cell_type": "code",
   "execution_count": null,
   "id": "8b28b705",
   "metadata": {},
   "outputs": [],
   "source": []
  }
 ],
 "metadata": {
  "kernelspec": {
   "display_name": "Python 3",
   "language": "python",
   "name": "python3"
  },
  "language_info": {
   "codemirror_mode": {
    "name": "ipython",
    "version": 3
   },
   "file_extension": ".py",
   "mimetype": "text/x-python",
   "name": "python",
   "nbconvert_exporter": "python",
   "pygments_lexer": "ipython3",
   "version": "3.12.4"
  }
 },
 "nbformat": 4,
 "nbformat_minor": 5
}
