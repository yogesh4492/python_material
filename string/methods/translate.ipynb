{
 "cells": [
  {
   "cell_type": "code",
   "execution_count": null,
   "id": "a70b5562",
   "metadata": {},
   "outputs": [
    {
     "data": {
      "text/plain": [
       "' translate method '"
      ]
     },
     "execution_count": 1,
     "metadata": {},
     "output_type": "execute_result"
    }
   ],
   "source": [
    "\"\"\" translate method \"\"\"\n",
    "\n",
    "# return new string mapped with translation table \n",
    "#ou must provide a mapping table created with str.maketrans().\n",
    "\n",
    "#create table syntax\n",
    "#   str.maketrans(x,y,z)\n",
    "#    x is charcter to replace \n",
    "#    y is new charcater \n",
    "# z delete character\n",
    "\n",
    "# syntax:\n",
    "#   string.translate(table)"
   ]
  },
  {
   "cell_type": "code",
   "execution_count": 3,
   "id": "2ad40c6a",
   "metadata": {},
   "outputs": [
    {
     "name": "stdout",
     "output_type": "stream",
     "text": [
      "Hell4 W4rld H4w Are Y45\n"
     ]
    }
   ],
   "source": [
    "table=str.maketrans(\"abiou\",\"12345\")\n",
    "txt=\"Hello World How Are You\"\n",
    "print(txt.translate(table))"
   ]
  },
  {
   "cell_type": "code",
   "execution_count": null,
   "id": "b1e39c6c",
   "metadata": {},
   "outputs": [
    {
     "name": "stdout",
     "output_type": "stream",
     "text": [
      "Hll Wrld Hw Ar Y\n"
     ]
    }
   ],
   "source": [
    "table=str.maketrans(\"\",\"\",\"aeiou\")#delete  string\n",
    "txt=\"Hello World How Are You\"\n",
    "print(txt.translate(table))"
   ]
  },
  {
   "cell_type": "code",
   "execution_count": null,
   "id": "ded48966",
   "metadata": {},
   "outputs": [],
   "source": []
  }
 ],
 "metadata": {
  "kernelspec": {
   "display_name": "Python 3",
   "language": "python",
   "name": "python3"
  },
  "language_info": {
   "codemirror_mode": {
    "name": "ipython",
    "version": 3
   },
   "file_extension": ".py",
   "mimetype": "text/x-python",
   "name": "python",
   "nbconvert_exporter": "python",
   "pygments_lexer": "ipython3",
   "version": "3.12.4"
  }
 },
 "nbformat": 4,
 "nbformat_minor": 5
}
