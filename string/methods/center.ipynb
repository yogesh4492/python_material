{
 "cells": [
  {
   "cell_type": "code",
   "execution_count": null,
   "id": "ffb2f851",
   "metadata": {},
   "outputs": [
    {
     "data": {
      "text/plain": [
       "' Center Method'"
      ]
     },
     "execution_count": 1,
     "metadata": {},
     "output_type": "execute_result"
    }
   ],
   "source": [
    "\"\"\" Center Method\"\"\"\n",
    "\n",
    "# this is a formating & allignment method of string\n",
    "# this is a give padding to string from both side\n",
    "# syntax:\n",
    "# string.center(Width,fillchar=\" \")\n",
    "#there are two parameter\n",
    "# width is output string width\n",
    "# if width is less than original string it return original string\n",
    "#  fill char is option default its take space\n",
    "#space or char fill on both side equaly\n"
   ]
  },
  {
   "cell_type": "code",
   "execution_count": null,
   "id": "4566ed97",
   "metadata": {},
   "outputs": [
    {
     "name": "stdout",
     "output_type": "stream",
     "text": [
      "  Python  \n"
     ]
    }
   ],
   "source": [
    "txt=\"Python\"\n",
    "print(txt.center(10))#we cant find how many space taken"
   ]
  },
  {
   "cell_type": "code",
   "execution_count": 4,
   "id": "874f3b6c",
   "metadata": {},
   "outputs": [
    {
     "name": "stdout",
     "output_type": "stream",
     "text": [
      "***Yogesh***\n"
     ]
    }
   ],
   "source": [
    "txt=\"Yogesh\"\n",
    "print(txt.center(12,\"*\"))#this show width is correct or not\n"
   ]
  },
  {
   "cell_type": "code",
   "execution_count": 5,
   "id": "6c484b45",
   "metadata": {},
   "outputs": [
    {
     "name": "stdout",
     "output_type": "stream",
     "text": [
      "-----------Welcome In Level1------------\n"
     ]
    }
   ],
   "source": [
    "txt=\"Welcome In Level1\"\n",
    "print(txt.center(40,\"-\"))"
   ]
  },
  {
   "cell_type": "code",
   "execution_count": null,
   "id": "f9dfb869",
   "metadata": {},
   "outputs": [],
   "source": []
  }
 ],
 "metadata": {
  "kernelspec": {
   "display_name": "Python 3",
   "language": "python",
   "name": "python3"
  },
  "language_info": {
   "codemirror_mode": {
    "name": "ipython",
    "version": 3
   },
   "file_extension": ".py",
   "mimetype": "text/x-python",
   "name": "python",
   "nbconvert_exporter": "python",
   "pygments_lexer": "ipython3",
   "version": "3.12.4"
  }
 },
 "nbformat": 4,
 "nbformat_minor": 5
}
