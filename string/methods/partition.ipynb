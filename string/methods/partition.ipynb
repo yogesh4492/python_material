{
 "cells": [
  {
   "cell_type": "code",
   "execution_count": null,
   "id": "235aa193",
   "metadata": {},
   "outputs": [
    {
     "data": {
      "text/plain": [
       "' Partition Method'"
      ]
     },
     "execution_count": 1,
     "metadata": {},
     "output_type": "execute_result"
    }
   ],
   "source": [
    "\"\"\" Partition Method\"\"\"\n",
    "\n",
    "#these mer=tod is spliting method\n",
    "# this memthod split string into three parts based on separator \n",
    "# if multiple sepratoravailable its work on on at first occurence only\n",
    "# syntax:\n",
    "# string.partition(separtaor)"
   ]
  },
  {
   "cell_type": "code",
   "execution_count": 12,
   "id": "15d57616",
   "metadata": {},
   "outputs": [
    {
     "name": "stdout",
     "output_type": "stream",
     "text": [
      "('Python ', 'is', ' fun')\n",
      "('', 'Python', ' is fun')\n",
      "('Python is ', 'fun', '')\n",
      "('', '', '')\n"
     ]
    }
   ],
   "source": [
    "txt=\"Python is fun\"\n",
    "print(txt.partition(\"is\"))\n",
    "txt=\"Python is fun\"\n",
    "print(txt.partition(\"Python\"))\n",
    "txt=\"Python is fun\"\n",
    "print(txt.partition(\"fun\"))\n",
    "txt=\"\"\n",
    "print(txt.partition(\"a\"))"
   ]
  },
  {
   "cell_type": "code",
   "execution_count": null,
   "id": "183d3c6d",
   "metadata": {},
   "outputs": [],
   "source": []
  }
 ],
 "metadata": {
  "kernelspec": {
   "display_name": "Python 3",
   "language": "python",
   "name": "python3"
  },
  "language_info": {
   "codemirror_mode": {
    "name": "ipython",
    "version": 3
   },
   "file_extension": ".py",
   "mimetype": "text/x-python",
   "name": "python",
   "nbconvert_exporter": "python",
   "pygments_lexer": "ipython3",
   "version": "3.12.4"
  }
 },
 "nbformat": 4,
 "nbformat_minor": 5
}
