{
 "cells": [
  {
   "cell_type": "code",
   "execution_count": 1,
   "id": "ada3ddf7",
   "metadata": {},
   "outputs": [
    {
     "data": {
      "text/plain": [
       "' Join Method'"
      ]
     },
     "execution_count": 1,
     "metadata": {},
     "output_type": "execute_result"
    }
   ],
   "source": [
    "\"\"\" Join Method\"\"\"\n",
    "#this method join or concater string using iterable like struiuing,list and tuple\n",
    "# syntax:\n",
    " #separator.join(iterablel)\n",
    " # separotor is separate string\n",
    "   #\"\" no space\n",
    "   #\",\" for comma\n",
    "#iterable is comes from string ,list and tuple\n",
    "\n",
    "#if iterable is emplty it return empty string\n",
    "#if value ids non string return an error\n"
   ]
  },
  {
   "cell_type": "code",
   "execution_count": 2,
   "id": "6b07b6d1",
   "metadata": {},
   "outputs": [
    {
     "name": "stdout",
     "output_type": "stream",
     "text": [
      "p,y,t,h,o,n\n"
     ]
    }
   ],
   "source": [
    "txt=\"python\"\n",
    "result=\",\".join(txt)\n",
    "print(result)"
   ]
  },
  {
   "cell_type": "code",
   "execution_count": null,
   "id": "606f0b95",
   "metadata": {},
   "outputs": [],
   "source": []
  }
 ],
 "metadata": {
  "kernelspec": {
   "display_name": "Python 3",
   "language": "python",
   "name": "python3"
  },
  "language_info": {
   "codemirror_mode": {
    "name": "ipython",
    "version": 3
   },
   "file_extension": ".py",
   "mimetype": "text/x-python",
   "name": "python",
   "nbconvert_exporter": "python",
   "pygments_lexer": "ipython3",
   "version": "3.12.4"
  }
 },
 "nbformat": 4,
 "nbformat_minor": 5
}
