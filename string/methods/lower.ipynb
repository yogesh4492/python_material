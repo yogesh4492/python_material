{
 "cells": [
  {
   "cell_type": "code",
   "execution_count": null,
   "id": "7edb1d00",
   "metadata": {},
   "outputs": [
    {
     "data": {
      "text/plain": [
       "'Lower method'"
      ]
     },
     "execution_count": 1,
     "metadata": {},
     "output_type": "execute_result"
    }
   ],
   "source": [
    "\"\"\"Lower method\"\"\"\n",
    "#this method is case conversing method \n",
    "#this method convert string all character to lower case\n",
    "\n",
    "#syntax:\n",
    "#   string.lower()"
   ]
  },
  {
   "cell_type": "code",
   "execution_count": 3,
   "id": "9c81ba68",
   "metadata": {},
   "outputs": [
    {
     "name": "stdout",
     "output_type": "stream",
     "text": [
      "python is my first language\n"
     ]
    }
   ],
   "source": [
    "txt=\"PYTHON IS MY FIRST LANGUAGE\"\n",
    "print(txt.lower())"
   ]
  },
  {
   "cell_type": "code",
   "execution_count": null,
   "id": "428587e9",
   "metadata": {},
   "outputs": [],
   "source": []
  }
 ],
 "metadata": {
  "kernelspec": {
   "display_name": "Python 3",
   "language": "python",
   "name": "python3"
  },
  "language_info": {
   "codemirror_mode": {
    "name": "ipython",
    "version": 3
   },
   "file_extension": ".py",
   "mimetype": "text/x-python",
   "name": "python",
   "nbconvert_exporter": "python",
   "pygments_lexer": "ipython3",
   "version": "3.12.4"
  }
 },
 "nbformat": 4,
 "nbformat_minor": 5
}
