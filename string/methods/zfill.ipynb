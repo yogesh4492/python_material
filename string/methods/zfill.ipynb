{
 "cells": [
  {
   "cell_type": "code",
   "execution_count": 1,
   "id": "607f24e9",
   "metadata": {},
   "outputs": [
    {
     "data": {
      "text/plain": [
       "' zfill method  '"
      ]
     },
     "execution_count": 1,
     "metadata": {},
     "output_type": "execute_result"
    }
   ],
   "source": [
    "\"\"\" zfill method  \"\"\"\n",
    "# this method work is fill zero on left side untill width is over\n",
    "# if any sign like + or - zero filled after it \n",
    "\n",
    "# syntax:\n",
    "#   string.zfill(width)\n"
   ]
  },
  {
   "cell_type": "code",
   "execution_count": 2,
   "id": "ccc51532",
   "metadata": {},
   "outputs": [
    {
     "name": "stdout",
     "output_type": "stream",
     "text": [
      "00000hello\n"
     ]
    }
   ],
   "source": [
    "txt=\"hello\"\n",
    "print(txt.zfill(10))"
   ]
  },
  {
   "cell_type": "code",
   "execution_count": 4,
   "id": "7aa11710",
   "metadata": {},
   "outputs": [
    {
     "name": "stdout",
     "output_type": "stream",
     "text": [
      "+0000000hy\n"
     ]
    }
   ],
   "source": [
    "txt=\"+hy\"\n",
    "print(txt.zfill(10))"
   ]
  },
  {
   "cell_type": "code",
   "execution_count": null,
   "id": "0b2a1e5a",
   "metadata": {},
   "outputs": [],
   "source": []
  }
 ],
 "metadata": {
  "kernelspec": {
   "display_name": "Python 3",
   "language": "python",
   "name": "python3"
  },
  "language_info": {
   "codemirror_mode": {
    "name": "ipython",
    "version": 3
   },
   "file_extension": ".py",
   "mimetype": "text/x-python",
   "name": "python",
   "nbconvert_exporter": "python",
   "pygments_lexer": "ipython3",
   "version": "3.12.4"
  }
 },
 "nbformat": 4,
 "nbformat_minor": 5
}
