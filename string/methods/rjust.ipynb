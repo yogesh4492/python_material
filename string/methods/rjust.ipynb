{
 "cells": [
  {
   "cell_type": "code",
   "execution_count": null,
   "id": "64b0f6fd",
   "metadata": {},
   "outputs": [
    {
     "data": {
      "text/plain": [
       "' Rjust method'"
      ]
     },
     "execution_count": 1,
     "metadata": {},
     "output_type": "execute_result"
    }
   ],
   "source": [
    "\"\"\" Rjust method\"\"\"\n",
    "\n",
    "# this is formating and alignment method\n",
    "# this is samilir as ljust but this give at satrt of string\n",
    "# syntax:\n",
    "  # string.rjust(width,fillchar=\"\") by default is string\n"
   ]
  },
  {
   "cell_type": "code",
   "execution_count": 4,
   "id": "50488a13",
   "metadata": {},
   "outputs": [
    {
     "name": "stdout",
     "output_type": "stream",
     "text": [
      "----python\n"
     ]
    }
   ],
   "source": [
    "txt=\"python\"\n",
    "print(txt.rjust(10,\"-\"))"
   ]
  },
  {
   "cell_type": "code",
   "execution_count": null,
   "id": "6e67ca29",
   "metadata": {},
   "outputs": [],
   "source": []
  }
 ],
 "metadata": {
  "kernelspec": {
   "display_name": "Python 3",
   "language": "python",
   "name": "python3"
  },
  "language_info": {
   "codemirror_mode": {
    "name": "ipython",
    "version": 3
   },
   "file_extension": ".py",
   "mimetype": "text/x-python",
   "name": "python",
   "nbconvert_exporter": "python",
   "pygments_lexer": "ipython3",
   "version": "3.12.4"
  }
 },
 "nbformat": 4,
 "nbformat_minor": 5
}
