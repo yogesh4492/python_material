{
 "cells": [
  {
   "cell_type": "code",
   "execution_count": null,
   "id": "c59fce06",
   "metadata": {},
   "outputs": [],
   "source": [
    "\"\"\" Index method\"\"\"\n",
    "#its is part of serchind and finding method \n",
    "# its similiar to find method \n",
    "# # differenc is return value error if substring not found insttead of returning 0\n",
    "# 3 must use when sure is substring avilable in String\n",
    "# syntax:\n",
    "# string.index(substring,start,end)\n",
    "\n",
    "# also case sensitive"
   ]
  },
  {
   "cell_type": "code",
   "execution_count": 7,
   "id": "a26683c6",
   "metadata": {},
   "outputs": [
    {
     "name": "stdout",
     "output_type": "stream",
     "text": [
      "7\n"
     ]
    }
   ],
   "source": [
    "#example\n",
    "\n",
    "text=\"Python is my First Language\"\n",
    "print(text.index(\"is\"))"
   ]
  },
  {
   "cell_type": "code",
   "execution_count": null,
   "id": "b1932ff0",
   "metadata": {},
   "outputs": [],
   "source": [
    "text=\"Python is my First Language\"\n",
    "print(text.index(\"java\"))# raise an value error"
   ]
  },
  {
   "cell_type": "code",
   "execution_count": null,
   "id": "925d255b",
   "metadata": {},
   "outputs": [],
   "source": [
    "\n"
   ]
  }
 ],
 "metadata": {
  "kernelspec": {
   "display_name": "Python 3",
   "language": "python",
   "name": "python3"
  },
  "language_info": {
   "codemirror_mode": {
    "name": "ipython",
    "version": 3
   },
   "file_extension": ".py",
   "mimetype": "text/x-python",
   "name": "python",
   "nbconvert_exporter": "python",
   "pygments_lexer": "ipython3",
   "version": "3.12.4"
  }
 },
 "nbformat": 4,
 "nbformat_minor": 5
}
