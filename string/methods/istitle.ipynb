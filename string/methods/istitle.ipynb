{
 "cells": [
  {
   "cell_type": "code",
   "execution_count": 1,
   "id": "616ccadc",
   "metadata": {},
   "outputs": [
    {
     "data": {
      "text/plain": [
       "' is title method '"
      ]
     },
     "execution_count": 1,
     "metadata": {},
     "output_type": "execute_result"
    }
   ],
   "source": [
    "\"\"\" is title method \"\"\"\n",
    "# it return true\n",
    " # if first letter of each word is capital\n",
    " # remaining all letter is lower\n",
    " # also if any word have diguit at start give true\n",
    "\n",
    "# it return false\n",
    " # any word not follow this patten\n",
    " # empty string\n",
    "#syntax:\n",
    "  #string.istitle()"
   ]
  },
  {
   "cell_type": "code",
   "execution_count": 2,
   "id": "c749920c",
   "metadata": {},
   "outputs": [
    {
     "name": "stdout",
     "output_type": "stream",
     "text": [
      "True\n"
     ]
    }
   ],
   "source": [
    "txt=\"Python Is My Frist Language\"\n",
    "print(txt.istitle())"
   ]
  },
  {
   "cell_type": "code",
   "execution_count": 7,
   "id": "3fcace18",
   "metadata": {},
   "outputs": [
    {
     "name": "stdout",
     "output_type": "stream",
     "text": [
      "True\n"
     ]
    }
   ],
   "source": [
    "txt=\"Python @World\"\n",
    "print(txt.istitle())"
   ]
  },
  {
   "cell_type": "code",
   "execution_count": 9,
   "id": "f8b3452f",
   "metadata": {},
   "outputs": [
    {
     "name": "stdout",
     "output_type": "stream",
     "text": [
      "False\n"
     ]
    }
   ],
   "source": [
    "txt=\"\"\n",
    "print(txt.istitle())"
   ]
  },
  {
   "cell_type": "code",
   "execution_count": 10,
   "id": "2471b529",
   "metadata": {},
   "outputs": [
    {
     "name": "stdout",
     "output_type": "stream",
     "text": [
      "False\n"
     ]
    }
   ],
   "source": [
    "txt=\"Python Is my First Language\"\n",
    "print(txt.istitle())"
   ]
  },
  {
   "cell_type": "code",
   "execution_count": null,
   "id": "17fab6e1",
   "metadata": {},
   "outputs": [],
   "source": []
  }
 ],
 "metadata": {
  "kernelspec": {
   "display_name": "Python 3",
   "language": "python",
   "name": "python3"
  },
  "language_info": {
   "codemirror_mode": {
    "name": "ipython",
    "version": 3
   },
   "file_extension": ".py",
   "mimetype": "text/x-python",
   "name": "python",
   "nbconvert_exporter": "python",
   "pygments_lexer": "ipython3",
   "version": "3.12.4"
  }
 },
 "nbformat": 4,
 "nbformat_minor": 5
}
