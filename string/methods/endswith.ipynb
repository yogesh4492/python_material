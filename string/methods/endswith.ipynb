{
 "cells": [
  {
   "cell_type": "code",
   "execution_count": 1,
   "id": "73bc123d",
   "metadata": {},
   "outputs": [
    {
     "data": {
      "text/plain": [
       "'Endswith method '"
      ]
     },
     "execution_count": 1,
     "metadata": {},
     "output_type": "execute_result"
    }
   ],
   "source": [
    "\"\"\"Endswith method \"\"\"\n",
    "# it is searching and finding method of string\n",
    "# it check string end with specific substring\n",
    "# it return true if yes or false if no\n",
    "#mostly used to check url,email and file extensible\n",
    "# it is case sensitive\n",
    "# tuple pass for multiple posible ends\n",
    "\n",
    "# syntax:\n",
    "#  string.endswith(suffix,start,ends)\n",
    "\n",
    "#there are three parameter \n",
    "   # suffix- substring check\n",
    "   # start optional by default 0\n",
    "   # end optional by default len(string)\n",
    "\n",
    "  "
   ]
  },
  {
   "cell_type": "code",
   "execution_count": 3,
   "id": "8ac0069b",
   "metadata": {},
   "outputs": [
    {
     "name": "stdout",
     "output_type": "stream",
     "text": [
      "its python file\n",
      "False\n"
     ]
    }
   ],
   "source": [
    "f_name=\"program.py\"\n",
    "if f_name.endswith(\".py\"):\n",
    "    print(\"its python file\")\n",
    "print(f_name.endswith(\".java\"))"
   ]
  },
  {
   "cell_type": "code",
   "execution_count": 13,
   "id": "1af4feea",
   "metadata": {},
   "outputs": [
    {
     "name": "stdout",
     "output_type": "stream",
     "text": [
      "True\n"
     ]
    }
   ],
   "source": [
    "#if we can apply range ten on;y check substring beetween if found \n",
    "txt=\"python.py\"\n",
    "print(txt.endswith(\".py\"))"
   ]
  },
  {
   "cell_type": "code",
   "execution_count": 11,
   "id": "5f06cd80",
   "metadata": {},
   "outputs": [
    {
     "name": "stdout",
     "output_type": "stream",
     "text": [
      "True\n"
     ]
    }
   ],
   "source": [
    "text=\"programming.py\"\n",
    "print(text.endswith(\"ing\", 0, 11))"
   ]
  },
  {
   "cell_type": "code",
   "execution_count": 19,
   "id": "8ba01aec",
   "metadata": {},
   "outputs": [
    {
     "name": "stdout",
     "output_type": "stream",
     "text": [
      "True\n"
     ]
    }
   ],
   "source": [
    "txt=\"python.txt\"\n",
    "print(txt.endswith((\".py\",\".java\",\".txt\")))"
   ]
  },
  {
   "cell_type": "code",
   "execution_count": null,
   "id": "ccebd354",
   "metadata": {},
   "outputs": [],
   "source": []
  }
 ],
 "metadata": {
  "kernelspec": {
   "display_name": "Python 3",
   "language": "python",
   "name": "python3"
  },
  "language_info": {
   "codemirror_mode": {
    "name": "ipython",
    "version": 3
   },
   "file_extension": ".py",
   "mimetype": "text/x-python",
   "name": "python",
   "nbconvert_exporter": "python",
   "pygments_lexer": "ipython3",
   "version": "3.12.4"
  }
 },
 "nbformat": 4,
 "nbformat_minor": 5
}
