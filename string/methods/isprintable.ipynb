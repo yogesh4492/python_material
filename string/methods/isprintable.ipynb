{
 "cells": [
  {
   "cell_type": "code",
   "execution_count": null,
   "id": "72ad522b",
   "metadata": {},
   "outputs": [
    {
     "data": {
      "text/plain": [
       "'ISprntable method'"
      ]
     },
     "execution_count": 1,
     "metadata": {},
     "output_type": "execute_result"
    }
   ],
   "source": [
    "\"\"\"ISprntable method\"\"\"\n",
    "# this method is validation method\n",
    "# this method checks all charctre in string is printable or not\n",
    "# it return false mostly in cases escape sequance\n",
    "#syntax:\n",
    "# string.isprintable()"
   ]
  },
  {
   "cell_type": "code",
   "execution_count": 2,
   "id": "597e93a7",
   "metadata": {},
   "outputs": [
    {
     "name": "stdout",
     "output_type": "stream",
     "text": [
      "True\n"
     ]
    }
   ],
   "source": [
    "txt=\"yogesh@!23+--~\"\n",
    "print(txt.isprintable())"
   ]
  },
  {
   "cell_type": "code",
   "execution_count": 3,
   "id": "9073750e",
   "metadata": {},
   "outputs": [
    {
     "name": "stdout",
     "output_type": "stream",
     "text": [
      "False\n"
     ]
    }
   ],
   "source": [
    "txt=\"yog\\nesh\"\n",
    "print(txt.isprintable())"
   ]
  },
  {
   "cell_type": "code",
   "execution_count": null,
   "id": "a50bebf3",
   "metadata": {},
   "outputs": [],
   "source": []
  }
 ],
 "metadata": {
  "kernelspec": {
   "display_name": "Python 3",
   "language": "python",
   "name": "python3"
  },
  "language_info": {
   "codemirror_mode": {
    "name": "ipython",
    "version": 3
   },
   "file_extension": ".py",
   "mimetype": "text/x-python",
   "name": "python",
   "nbconvert_exporter": "python",
   "pygments_lexer": "ipython3",
   "version": "3.12.4"
  }
 },
 "nbformat": 4,
 "nbformat_minor": 5
}
