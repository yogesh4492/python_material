{
 "cells": [
  {
   "cell_type": "code",
   "execution_count": 1,
   "id": "abed51a2",
   "metadata": {},
   "outputs": [
    {
     "data": {
      "text/plain": [
       "' Case fold Method'"
      ]
     },
     "execution_count": 1,
     "metadata": {},
     "output_type": "execute_result"
    }
   ],
   "source": [
    "\"\"\" Case fold Method\"\"\"\n",
    "\n",
    "#it is also case conversion method\n",
    "#Mostly used in case-insensitive\n",
    "# more stronger than lower for unicode language\n",
    "\n"
   ]
  },
  {
   "cell_type": "code",
   "execution_count": null,
   "id": "841f674f",
   "metadata": {},
   "outputs": [
    {
     "name": "stdout",
     "output_type": "stream",
     "text": [
      "python\n"
     ]
    }
   ],
   "source": [
    "txt=\"PYTHON\"\n",
    "print(txt.casefold())#english lang\n",
    " "
   ]
  },
  {
   "cell_type": "code",
   "execution_count": 3,
   "id": "54879632",
   "metadata": {},
   "outputs": [
    {
     "name": "stdout",
     "output_type": "stream",
     "text": [
      "straße\n",
      "strasse\n"
     ]
    }
   ],
   "source": [
    "text2 = \"Straße\"  # German word\n",
    "print(text2.lower())     # Output: \"straße\"\n",
    "print(text2.casefold())"
   ]
  },
  {
   "cell_type": "code",
   "execution_count": null,
   "id": "746265db",
   "metadata": {},
   "outputs": [],
   "source": []
  }
 ],
 "metadata": {
  "kernelspec": {
   "display_name": "Python 3",
   "language": "python",
   "name": "python3"
  },
  "language_info": {
   "codemirror_mode": {
    "name": "ipython",
    "version": 3
   },
   "file_extension": ".py",
   "mimetype": "text/x-python",
   "name": "python",
   "nbconvert_exporter": "python",
   "pygments_lexer": "ipython3",
   "version": "3.12.4"
  }
 },
 "nbformat": 4,
 "nbformat_minor": 5
}
