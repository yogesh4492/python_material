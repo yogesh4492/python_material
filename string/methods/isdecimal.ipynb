{
 "cells": [
  {
   "cell_type": "code",
   "execution_count": 1,
   "id": "c51ba46f",
   "metadata": {},
   "outputs": [
    {
     "data": {
      "text/plain": [
       "' isdecimal method'"
      ]
     },
     "execution_count": 1,
     "metadata": {},
     "output_type": "execute_result"
    }
   ],
   "source": [
    "\"\"\" isdecimal method\"\"\"\n",
    "# its check only the number between only 0-9\n",
    "# its support pure decimal\n",
    "# more strict than isdigit and is numeric\n",
    "# not support subscript,romannumber\n",
    "\n",
    "#syntax:\n",
    " # string.isdecimal()\n"
   ]
  },
  {
   "cell_type": "code",
   "execution_count": null,
   "id": "15aabe53",
   "metadata": {},
   "outputs": [
    {
     "name": "stdout",
     "output_type": "stream",
     "text": [
      "False\n"
     ]
    }
   ],
   "source": [
    "txt=\"123565\"\n",
    "print(txt.isdecimal())"
   ]
  },
  {
   "cell_type": "code",
   "execution_count": 3,
   "id": "19766509",
   "metadata": {},
   "outputs": [
    {
     "name": "stdout",
     "output_type": "stream",
     "text": [
      "False\n"
     ]
    }
   ],
   "source": [
    "txt=\"p1234\"\n",
    "print(txt.isdecimal())"
   ]
  },
  {
   "cell_type": "code",
   "execution_count": 4,
   "id": "9d07b0fd",
   "metadata": {},
   "outputs": [
    {
     "name": "stdout",
     "output_type": "stream",
     "text": [
      "False\n"
     ]
    }
   ],
   "source": [
    "txt=\"\"\n",
    "print(txt.isdecimal())"
   ]
  },
  {
   "cell_type": "code",
   "execution_count": 5,
   "id": "0fac1fb0",
   "metadata": {},
   "outputs": [
    {
     "name": "stdout",
     "output_type": "stream",
     "text": [
      "False\n"
     ]
    }
   ],
   "source": [
    "txt=\"123 456\"\n",
    "print(txt.isdecimal())"
   ]
  },
  {
   "cell_type": "code",
   "execution_count": 10,
   "id": "78a6892f",
   "metadata": {},
   "outputs": [
    {
     "name": "stdout",
     "output_type": "stream",
     "text": [
      "False\n"
     ]
    }
   ],
   "source": [
    "txt=\"IV\"\n",
    "print(txt.isdecimal())"
   ]
  },
  {
   "cell_type": "code",
   "execution_count": null,
   "id": "7c4b78d9",
   "metadata": {},
   "outputs": [],
   "source": []
  }
 ],
 "metadata": {
  "kernelspec": {
   "display_name": "Python 3",
   "language": "python",
   "name": "python3"
  },
  "language_info": {
   "codemirror_mode": {
    "name": "ipython",
    "version": 3
   },
   "file_extension": ".py",
   "mimetype": "text/x-python",
   "name": "python",
   "nbconvert_exporter": "python",
   "pygments_lexer": "ipython3",
   "version": "3.12.4"
  }
 },
 "nbformat": 4,
 "nbformat_minor": 5
}
