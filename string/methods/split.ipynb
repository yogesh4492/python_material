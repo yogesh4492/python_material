{
 "cells": [
  {
   "cell_type": "code",
   "execution_count": 1,
   "id": "4039bf59",
   "metadata": {},
   "outputs": [
    {
     "data": {
      "text/plain": [
       "' Split Method '"
      ]
     },
     "execution_count": 1,
     "metadata": {},
     "output_type": "execute_result"
    }
   ],
   "source": [
    "\"\"\" Split Method \"\"\"\n",
    "#this method is split string into list of substring based on separator\n",
    "# this work from left to right\n",
    "\n",
    "#syntxa:\n",
    "# string.split(sepatrator,maxsplit)by default all until right side come"
   ]
  },
  {
   "cell_type": "code",
   "execution_count": 6,
   "id": "a4f5f7fa",
   "metadata": {},
   "outputs": [
    {
     "name": "stdout",
     "output_type": "stream",
     "text": [
      "['Pyhton', 'Is', 'hight', 'level']\n"
     ]
    }
   ],
   "source": [
    "txt=\"Pyhton Is hight level\"\n",
    "print(txt.split())"
   ]
  },
  {
   "cell_type": "code",
   "execution_count": 12,
   "id": "5e7b1b29",
   "metadata": {},
   "outputs": [
    {
     "name": "stdout",
     "output_type": "stream",
     "text": [
      "['Python', 'is', 'high level language']\n"
     ]
    }
   ],
   "source": [
    "txt=\"Python is high level language\"\n",
    "print(txt.split(\" \",2))"
   ]
  },
  {
   "cell_type": "code",
   "execution_count": null,
   "id": "2eb1c676",
   "metadata": {},
   "outputs": [],
   "source": []
  }
 ],
 "metadata": {
  "kernelspec": {
   "display_name": "Python 3",
   "language": "python",
   "name": "python3"
  },
  "language_info": {
   "codemirror_mode": {
    "name": "ipython",
    "version": 3
   },
   "file_extension": ".py",
   "mimetype": "text/x-python",
   "name": "python",
   "nbconvert_exporter": "python",
   "pygments_lexer": "ipython3",
   "version": "3.12.4"
  }
 },
 "nbformat": 4,
 "nbformat_minor": 5
}
