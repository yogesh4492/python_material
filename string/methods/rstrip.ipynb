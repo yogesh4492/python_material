{
 "cells": [
  {
   "cell_type": "code",
   "execution_count": 1,
   "id": "0ce419f0",
   "metadata": {},
   "outputs": [
    {
     "data": {
      "text/plain": [
       "' rstrip method'"
      ]
     },
     "execution_count": 1,
     "metadata": {},
     "output_type": "execute_result"
    }
   ],
   "source": [
    "\"\"\" rstrip method\"\"\"\n",
    "\n",
    "#this is striping method \n",
    "# this method used to remove space from right side /or any character\n",
    "\n",
    "#syntax:\n",
    "#  string.rstrip([char]) by default remove space and char remove specified character at the end\n",
    "\n"
   ]
  },
  {
   "cell_type": "code",
   "execution_count": 5,
   "id": "497248dd",
   "metadata": {},
   "outputs": [
    {
     "name": "stdout",
     "output_type": "stream",
     "text": [
      "Pyhon is very usefull language\n"
     ]
    }
   ],
   "source": [
    "txt=\"Pyhon is very usefull language--------------------------\"\n",
    "print(txt.rstrip(\" -\"))"
   ]
  },
  {
   "cell_type": "code",
   "execution_count": null,
   "id": "b12c38c0",
   "metadata": {},
   "outputs": [],
   "source": []
  }
 ],
 "metadata": {
  "kernelspec": {
   "display_name": "Python 3",
   "language": "python",
   "name": "python3"
  },
  "language_info": {
   "codemirror_mode": {
    "name": "ipython",
    "version": 3
   },
   "file_extension": ".py",
   "mimetype": "text/x-python",
   "name": "python",
   "nbconvert_exporter": "python",
   "pygments_lexer": "ipython3",
   "version": "3.12.4"
  }
 },
 "nbformat": 4,
 "nbformat_minor": 5
}
