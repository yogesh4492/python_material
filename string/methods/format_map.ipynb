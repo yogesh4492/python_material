{
 "cells": [
  {
   "cell_type": "code",
   "execution_count": null,
   "id": "e216e8c0",
   "metadata": {},
   "outputs": [
    {
     "data": {
      "text/plain": [
       "'\\nFormat_map method\\n'"
      ]
     },
     "execution_count": 3,
     "metadata": {},
     "output_type": "execute_result"
    }
   ],
   "source": [
    "\"\"\"\n",
    "Format_map method\n",
    "\"\"\"\n",
    "\n",
    "# this metod is part of miscellenuoes method of string\n",
    "# this method work only with map/Dictonary\n",
    "# this method return error ifkey not foound\n",
    "#  same as format but not have default value passing like format\n",
    "\n",
    "# #syntax:\n",
    "#  format_map(dic/map)\n"
   ]
  },
  {
   "cell_type": "code",
   "execution_count": 6,
   "id": "2495487c",
   "metadata": {},
   "outputs": [
    {
     "name": "stdout",
     "output_type": "stream",
     "text": [
      "My name is Yogesh and i am 20 years old\n"
     ]
    }
   ],
   "source": [
    "# format map\n",
    "personal={\"name\":\"Yogesh\",\"age\":20}\n",
    "print(\"My name is {name} and i am {age} years old\".format_map(personal))"
   ]
  },
  {
   "cell_type": "code",
   "execution_count": 7,
   "id": "9c1b55e0",
   "metadata": {},
   "outputs": [
    {
     "name": "stdout",
     "output_type": "stream",
     "text": [
      "Hello Bob\n",
      "Error: 'age'\n"
     ]
    }
   ],
   "source": [
    "person = {\"name\": \"Bob\"}\n",
    "print(\"Hello {name}\".format_map(person))  \n",
    "# Output: Hello Bob\n",
    "\n",
    "# Missing key → KeyError\n",
    "try:\n",
    "    print(\"Hello {age}\".format_map(person))\n",
    "except KeyError as e:\n",
    "    print(\"Error:\", e)\n"
   ]
  },
  {
   "cell_type": "code",
   "execution_count": null,
   "id": "972c1ad4",
   "metadata": {},
   "outputs": [],
   "source": []
  }
 ],
 "metadata": {
  "kernelspec": {
   "display_name": "Python 3",
   "language": "python",
   "name": "python3"
  },
  "language_info": {
   "codemirror_mode": {
    "name": "ipython",
    "version": 3
   },
   "file_extension": ".py",
   "mimetype": "text/x-python",
   "name": "python",
   "nbconvert_exporter": "python",
   "pygments_lexer": "ipython3",
   "version": "3.12.4"
  }
 },
 "nbformat": 4,
 "nbformat_minor": 5
}
