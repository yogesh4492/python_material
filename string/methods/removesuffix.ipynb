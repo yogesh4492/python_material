{
 "cells": [
  {
   "cell_type": "code",
   "execution_count": 1,
   "id": "9c5b0527",
   "metadata": {},
   "outputs": [
    {
     "data": {
      "text/plain": [
       "' Remove suffix method '"
      ]
     },
     "execution_count": 1,
     "metadata": {},
     "output_type": "execute_result"
    }
   ],
   "source": [
    "\"\"\" Remove suffix method \"\"\"\n",
    "\n",
    "# this method is remove suffix from string\n",
    "# if suffix not present at the end of string is its return unchanged\n",
    "\n",
    "#syntax:\n",
    " # string.removesuffix(suffix)\n",
    " "
   ]
  },
  {
   "cell_type": "code",
   "execution_count": 2,
   "id": "3e8a0f2b",
   "metadata": {},
   "outputs": [
    {
     "name": "stdout",
     "output_type": "stream",
     "text": [
      "hello\n"
     ]
    }
   ],
   "source": [
    "txt=\"helloworld\"\n",
    "print(txt.removesuffix(\"world\"))"
   ]
  },
  {
   "cell_type": "code",
   "execution_count": 5,
   "id": "e5a139e6",
   "metadata": {},
   "outputs": [
    {
     "name": "stdout",
     "output_type": "stream",
     "text": [
      "hello world\n"
     ]
    }
   ],
   "source": [
    "txt=\"hello world\"\n",
    "print(txt.removesuffix(\"wor\"))#unchanged"
   ]
  },
  {
   "cell_type": "code",
   "execution_count": null,
   "id": "1b2db5c4",
   "metadata": {},
   "outputs": [],
   "source": []
  }
 ],
 "metadata": {
  "kernelspec": {
   "display_name": "Python 3",
   "language": "python",
   "name": "python3"
  },
  "language_info": {
   "codemirror_mode": {
    "name": "ipython",
    "version": 3
   },
   "file_extension": ".py",
   "mimetype": "text/x-python",
   "name": "python",
   "nbconvert_exporter": "python",
   "pygments_lexer": "ipython3",
   "version": "3.12.4"
  }
 },
 "nbformat": 4,
 "nbformat_minor": 5
}
