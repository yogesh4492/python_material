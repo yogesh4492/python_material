{
 "cells": [
  {
   "cell_type": "code",
   "execution_count": 1,
   "id": "8d61152b",
   "metadata": {},
   "outputs": [
    {
     "data": {
      "text/plain": [
       "' isidentifier method  '"
      ]
     },
     "execution_count": 1,
     "metadata": {},
     "output_type": "execute_result"
    }
   ],
   "source": [
    "\"\"\" isidentifier method  \"\"\"\n",
    "\n",
    "#this method check string contain only a-z 0-9 and _underscore\n",
    "#flase if firstcharacter is digit\n",
    "#mostly apply like variable anem\n",
    "# one thong remaaindor that its given true for keywords that means  not give name for keyword as variable\n",
    "\n",
    "# syntax\n",
    "# tring.isidentifier()}"
   ]
  },
  {
   "cell_type": "code",
   "execution_count": 2,
   "id": "d3370b5f",
   "metadata": {},
   "outputs": [
    {
     "name": "stdout",
     "output_type": "stream",
     "text": [
      "True\n"
     ]
    }
   ],
   "source": [
    "txt=\"name\"\n",
    "print(txt.isidentifier())"
   ]
  },
  {
   "cell_type": "code",
   "execution_count": 3,
   "id": "46993e9a",
   "metadata": {},
   "outputs": [
    {
     "name": "stdout",
     "output_type": "stream",
     "text": [
      "True\n"
     ]
    }
   ],
   "source": [
    "txt=\"name1\"\n",
    "print(txt.isidentifier())"
   ]
  },
  {
   "cell_type": "code",
   "execution_count": 12,
   "id": "20a8649b",
   "metadata": {},
   "outputs": [
    {
     "name": "stdout",
     "output_type": "stream",
     "text": [
      "True\n"
     ]
    }
   ],
   "source": [
    "txt=\"_name_\"\n",
    "print(txt.isidentifier())"
   ]
  },
  {
   "cell_type": "code",
   "execution_count": null,
   "id": "edd0d68c",
   "metadata": {},
   "outputs": [
    {
     "name": "stdout",
     "output_type": "stream",
     "text": [
      "True\n"
     ]
    }
   ],
   "source": [
    "txt=\"int\"\n",
    "print(txt.isidentifier())#its gives true but dont use keyword as variable name"
   ]
  },
  {
   "cell_type": "code",
   "execution_count": 5,
   "id": "7910dd1a",
   "metadata": {},
   "outputs": [
    {
     "name": "stdout",
     "output_type": "stream",
     "text": [
      "False\n"
     ]
    }
   ],
   "source": [
    "txt=\"1name\"\n",
    "print(txt.isidentifier())"
   ]
  },
  {
   "cell_type": "code",
   "execution_count": 6,
   "id": "915fce46",
   "metadata": {},
   "outputs": [
    {
     "name": "stdout",
     "output_type": "stream",
     "text": [
      "False\n"
     ]
    }
   ],
   "source": [
    "txt=\"name@1\"\n",
    "print(txt.isidentifier())"
   ]
  },
  {
   "cell_type": "code",
   "execution_count": 11,
   "id": "fdf5aa21",
   "metadata": {},
   "outputs": [
    {
     "name": "stdout",
     "output_type": "stream",
     "text": [
      "False\n"
     ]
    }
   ],
   "source": [
    "txt=\"firs Name\"\n",
    "print(txt.isidentifier())"
   ]
  },
  {
   "cell_type": "code",
   "execution_count": null,
   "id": "2e30ed4f",
   "metadata": {},
   "outputs": [],
   "source": []
  }
 ],
 "metadata": {
  "kernelspec": {
   "display_name": "Python 3",
   "language": "python",
   "name": "python3"
  },
  "language_info": {
   "codemirror_mode": {
    "name": "ipython",
    "version": 3
   },
   "file_extension": ".py",
   "mimetype": "text/x-python",
   "name": "python",
   "nbconvert_exporter": "python",
   "pygments_lexer": "ipython3",
   "version": "3.12.4"
  }
 },
 "nbformat": 4,
 "nbformat_minor": 5
}
