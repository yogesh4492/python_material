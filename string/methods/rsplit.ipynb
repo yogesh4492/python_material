{
 "cells": [
  {
   "cell_type": "code",
   "execution_count": 1,
   "id": "cca2fb4a",
   "metadata": {},
   "outputs": [
    {
     "data": {
      "text/plain": [
       "' Rsplit method '"
      ]
     },
     "execution_count": 1,
     "metadata": {},
     "output_type": "execute_result"
    }
   ],
   "source": [
    "\"\"\" Rsplit method \"\"\"\n",
    "\n",
    "# 3 this is spliting method of string\n",
    "# this split string into part based on word\n",
    "# work right to left\n",
    "# not work left to right\n",
    "# sytax:\n",
    "  # string.rsplit(separator,maxsplit) by default all"
   ]
  },
  {
   "cell_type": "code",
   "execution_count": 6,
   "id": "d5bc8d79",
   "metadata": {},
   "outputs": [
    {
     "name": "stdout",
     "output_type": "stream",
     "text": [
      "['python', 'is', 'high', 'level', 'language']\n"
     ]
    }
   ],
   "source": [
    "txt=\"python is high level language\"\n",
    "print(txt.rsplit())"
   ]
  },
  {
   "cell_type": "code",
   "execution_count": null,
   "id": "275b00a6",
   "metadata": {},
   "outputs": [
    {
     "name": "stdout",
     "output_type": "stream",
     "text": [
      "['Python is high', 'is', 'level']\n"
     ]
    }
   ],
   "source": [
    "txt=\"Python is high is level\"#base don space also\n",
    "print(txt.rsplit(\" \",2))"
   ]
  },
  {
   "cell_type": "code",
   "execution_count": null,
   "id": "67a5fb94",
   "metadata": {},
   "outputs": [],
   "source": []
  }
 ],
 "metadata": {
  "kernelspec": {
   "display_name": "Python 3",
   "language": "python",
   "name": "python3"
  },
  "language_info": {
   "codemirror_mode": {
    "name": "ipython",
    "version": 3
   },
   "file_extension": ".py",
   "mimetype": "text/x-python",
   "name": "python",
   "nbconvert_exporter": "python",
   "pygments_lexer": "ipython3",
   "version": "3.12.4"
  }
 },
 "nbformat": 4,
 "nbformat_minor": 5
}
