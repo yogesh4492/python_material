{
 "cells": [
  {
   "cell_type": "code",
   "execution_count": 1,
   "id": "9641c9f9",
   "metadata": {},
   "outputs": [
    {
     "data": {
      "text/plain": [
       "' isalpha method'"
      ]
     },
     "execution_count": 1,
     "metadata": {},
     "output_type": "execute_result"
    }
   ],
   "source": [
    "\"\"\" isalpha method\"\"\"\n",
    "#its also part of validation string mrthods\n",
    "# its check string contains only alphabet (A-Z,a-z)\n",
    "# same as alphanum\n",
    "  #return true\n",
    "    # if alphabet only instring \n",
    "    # unicode in string\n",
    "  # return false \n",
    "   # if number,space empty,special symbol in string "
   ]
  },
  {
   "cell_type": "code",
   "execution_count": 2,
   "id": "ce494cb4",
   "metadata": {},
   "outputs": [
    {
     "name": "stdout",
     "output_type": "stream",
     "text": [
      "True\n"
     ]
    }
   ],
   "source": [
    "txt=\"python\"\n",
    "print(txt.isalpha())"
   ]
  },
  {
   "cell_type": "code",
   "execution_count": null,
   "id": "fad18c7d",
   "metadata": {},
   "outputs": [
    {
     "name": "stdout",
     "output_type": "stream",
     "text": [
      "True\n"
     ]
    }
   ],
   "source": [
    "txt=\"યpython\"\n",
    "print(txt.isalpha())#unicode"
   ]
  },
  {
   "cell_type": "code",
   "execution_count": 5,
   "id": "002c2a41",
   "metadata": {},
   "outputs": [
    {
     "name": "stdout",
     "output_type": "stream",
     "text": [
      "False\n"
     ]
    }
   ],
   "source": [
    "txt=\"python1\"\n",
    "print(txt.isalpha())"
   ]
  },
  {
   "cell_type": "code",
   "execution_count": 6,
   "id": "a8b7fd3d",
   "metadata": {},
   "outputs": [
    {
     "name": "stdout",
     "output_type": "stream",
     "text": [
      "False\n"
     ]
    }
   ],
   "source": [
    "txt=\"\"\n",
    "print(txt.isalpha())"
   ]
  },
  {
   "cell_type": "code",
   "execution_count": 7,
   "id": "4ec7d9a0",
   "metadata": {},
   "outputs": [
    {
     "name": "stdout",
     "output_type": "stream",
     "text": [
      "False\n"
     ]
    }
   ],
   "source": [
    "txt=\"123\"\n",
    "print(txt.isalpha())"
   ]
  },
  {
   "cell_type": "code",
   "execution_count": 8,
   "id": "599cf9c1",
   "metadata": {},
   "outputs": [
    {
     "name": "stdout",
     "output_type": "stream",
     "text": [
      "False\n"
     ]
    }
   ],
   "source": [
    "txt=\"python@\"\n",
    "print(txt.isalpha())"
   ]
  },
  {
   "cell_type": "code",
   "execution_count": 9,
   "id": "94fce457",
   "metadata": {},
   "outputs": [
    {
     "name": "stdout",
     "output_type": "stream",
     "text": [
      "False\n"
     ]
    }
   ],
   "source": [
    "txt=\"pytho n\"\n",
    "print(txt.isalpha())"
   ]
  },
  {
   "cell_type": "code",
   "execution_count": null,
   "id": "d58bd8b7",
   "metadata": {},
   "outputs": [],
   "source": []
  }
 ],
 "metadata": {
  "kernelspec": {
   "display_name": "Python 3",
   "language": "python",
   "name": "python3"
  },
  "language_info": {
   "codemirror_mode": {
    "name": "ipython",
    "version": 3
   },
   "file_extension": ".py",
   "mimetype": "text/x-python",
   "name": "python",
   "nbconvert_exporter": "python",
   "pygments_lexer": "ipython3",
   "version": "3.12.4"
  }
 },
 "nbformat": 4,
 "nbformat_minor": 5
}
