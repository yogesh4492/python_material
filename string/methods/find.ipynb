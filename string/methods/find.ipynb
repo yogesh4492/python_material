{
 "cells": [
  {
   "cell_type": "code",
   "execution_count": null,
   "id": "fa0029a5",
   "metadata": {},
   "outputs": [],
   "source": [
    "\"\"\"find method\"\"\"\n",
    "# it is searching method of string\n",
    "# syntax:\n",
    " # string.find(substring,start,end)\n",
    "# there vthree parameters\n",
    "\n",
    "# substring -string for searching\n",
    "# satrt is optional by default 0\n",
    "# end is optinal by default end of string\n",
    "\n",
    "# key points\n",
    "# 1.case sensitive\n",
    "# 2.for multiple ocerance use Find\n",
    "# 3.loping use rfind\n",
    "\n",
    "#if not found it return -1\n",
    "# if found it return first ocurence(lowest ocurencee)\n"
   ]
  },
  {
   "cell_type": "code",
   "execution_count": 6,
   "id": "93a2dc83",
   "metadata": {},
   "outputs": [
    {
     "name": "stdout",
     "output_type": "stream",
     "text": [
      "0\n"
     ]
    }
   ],
   "source": [
    "txt=\"python programming is fun language\"\n",
    "print(txt.find(\"python\"))"
   ]
  },
  {
   "cell_type": "code",
   "execution_count": 7,
   "id": "b96df0e6",
   "metadata": {},
   "outputs": [
    {
     "name": "stdout",
     "output_type": "stream",
     "text": [
      "-1\n"
     ]
    }
   ],
   "source": [
    "txt=\"Python Is High level language\"\n",
    "print(txt.find(\"java\"))"
   ]
  }
 ],
 "metadata": {
  "kernelspec": {
   "display_name": "Python 3",
   "language": "python",
   "name": "python3"
  },
  "language_info": {
   "codemirror_mode": {
    "name": "ipython",
    "version": 3
   },
   "file_extension": ".py",
   "mimetype": "text/x-python",
   "name": "python",
   "nbconvert_exporter": "python",
   "pygments_lexer": "ipython3",
   "version": "3.12.4"
  }
 },
 "nbformat": 4,
 "nbformat_minor": 5
}
