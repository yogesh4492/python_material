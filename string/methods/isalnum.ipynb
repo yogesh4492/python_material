{
 "cells": [
  {
   "cell_type": "code",
   "execution_count": 1,
   "id": "4eb253b2",
   "metadata": {},
   "outputs": [
    {
     "data": {
      "text/plain": [
       "' ISalnum method'"
      ]
     },
     "execution_count": 1,
     "metadata": {},
     "output_type": "execute_result"
    }
   ],
   "source": [
    "\"\"\" ISalnum method\"\"\"\n",
    "# its a part of validation string methods\n",
    "# its check string is contain alphanumeric values or not \n",
    "# keypint\n",
    "    # return true\n",
    "       # if only characters\n",
    "       # if only number\n",
    "       # if both of them\n",
    "       # if unicode in string\n",
    "    # return false\n",
    "      # if special symbol\n",
    "      # space beetween string\n",
    "      # if string is empty\n",
    "# syntax:\n",
    " # string.isalnum()"
   ]
  },
  {
   "cell_type": "code",
   "execution_count": null,
   "id": "1285bf2c",
   "metadata": {},
   "outputs": [
    {
     "name": "stdout",
     "output_type": "stream",
     "text": [
      "True\n"
     ]
    }
   ],
   "source": [
    "#checks\n",
    "text=\"user123\"\n",
    "print(text.isalnum())\n"
   ]
  },
  {
   "cell_type": "code",
   "execution_count": 3,
   "id": "d4921e08",
   "metadata": {},
   "outputs": [
    {
     "name": "stdout",
     "output_type": "stream",
     "text": [
      "True\n"
     ]
    }
   ],
   "source": [
    "text1=\"user\"\n",
    "print(text1.isalnum())"
   ]
  },
  {
   "cell_type": "code",
   "execution_count": null,
   "id": "a1b471ab",
   "metadata": {},
   "outputs": [
    {
     "name": "stdout",
     "output_type": "stream",
     "text": [
      "True\n",
      "True\n"
     ]
    }
   ],
   "source": [
    "txt2=\"123\"\n",
    "print(txt2.isalnum())\n",
    "txt=\"ઈnum\"\n",
    "print(txt.isalnum())#unicode"
   ]
  },
  {
   "cell_type": "code",
   "execution_count": 5,
   "id": "b05e8efe",
   "metadata": {},
   "outputs": [
    {
     "name": "stdout",
     "output_type": "stream",
     "text": [
      "False\n"
     ]
    }
   ],
   "source": [
    "txt=\"\"\n",
    "print(txt.isalnum())"
   ]
  },
  {
   "cell_type": "code",
   "execution_count": 7,
   "id": "24fc78d0",
   "metadata": {},
   "outputs": [
    {
     "name": "stdout",
     "output_type": "stream",
     "text": [
      "False\n"
     ]
    }
   ],
   "source": [
    "txt=\"user 123\"\n",
    "print(txt.isalnum())"
   ]
  },
  {
   "cell_type": "code",
   "execution_count": 9,
   "id": "782e943c",
   "metadata": {},
   "outputs": [
    {
     "name": "stdout",
     "output_type": "stream",
     "text": [
      "False\n"
     ]
    }
   ],
   "source": [
    "txt=\"user@123\"\n",
    "print(txt.isalnum())"
   ]
  },
  {
   "cell_type": "code",
   "execution_count": null,
   "id": "edb5ea67",
   "metadata": {},
   "outputs": [],
   "source": []
  }
 ],
 "metadata": {
  "kernelspec": {
   "display_name": "Python 3",
   "language": "python",
   "name": "python3"
  },
  "language_info": {
   "codemirror_mode": {
    "name": "ipython",
    "version": 3
   },
   "file_extension": ".py",
   "mimetype": "text/x-python",
   "name": "python",
   "nbconvert_exporter": "python",
   "pygments_lexer": "ipython3",
   "version": "3.12.4"
  }
 },
 "nbformat": 4,
 "nbformat_minor": 5
}
