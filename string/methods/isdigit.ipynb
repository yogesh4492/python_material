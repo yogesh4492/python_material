{
 "cells": [
  {
   "cell_type": "code",
   "execution_count": null,
   "id": "c4e752d1",
   "metadata": {},
   "outputs": [
    {
     "data": {
      "text/plain": [
       "' isdigit method'"
      ]
     },
     "execution_count": 1,
     "metadata": {},
     "output_type": "execute_result"
    }
   ],
   "source": [
    "\"\"\" isdigit method\"\"\"\n",
    "# is degit method is validation method\n",
    "# its same as decimal but not only check 0-9 \n",
    "#its also support subscript \n",
    "# still not suport roman and fraction\n",
    "\n",
    "# syntax:\n",
    "# string.isdigit()"
   ]
  },
  {
   "cell_type": "code",
   "execution_count": 3,
   "id": "00d620e5",
   "metadata": {},
   "outputs": [
    {
     "name": "stdout",
     "output_type": "stream",
     "text": [
      "True\n"
     ]
    }
   ],
   "source": [
    "txt=\"314\"\n",
    "print(txt.isdigit())"
   ]
  },
  {
   "cell_type": "code",
   "execution_count": null,
   "id": "02a95eaa",
   "metadata": {},
   "outputs": [],
   "source": []
  }
 ],
 "metadata": {
  "kernelspec": {
   "display_name": "Python 3",
   "language": "python",
   "name": "python3"
  },
  "language_info": {
   "codemirror_mode": {
    "name": "ipython",
    "version": 3
   },
   "file_extension": ".py",
   "mimetype": "text/x-python",
   "name": "python",
   "nbconvert_exporter": "python",
   "pygments_lexer": "ipython3",
   "version": "3.12.4"
  }
 },
 "nbformat": 4,
 "nbformat_minor": 5
}
