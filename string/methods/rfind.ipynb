{
 "cells": [
  {
   "cell_type": "code",
   "execution_count": null,
   "id": "f007e9e3",
   "metadata": {},
   "outputs": [
    {
     "data": {
      "text/plain": [
       "'Rfind method'"
      ]
     },
     "execution_count": 1,
     "metadata": {},
     "output_type": "execute_result"
    }
   ],
   "source": [
    "\"\"\"Rfind method\"\"\"\n",
    "\n",
    "#this method is similiar to find method but return higest occuerence\n",
    "#its check right to left\n",
    "#if not foiound return -1\n",
    "\n",
    "#syntax:\n",
    "# string.rfind(sunstring,start,end)"
   ]
  },
  {
   "cell_type": "code",
   "execution_count": null,
   "id": "7421ec2b",
   "metadata": {},
   "outputs": [
    {
     "name": "stdout",
     "output_type": "stream",
     "text": [
      "33\n"
     ]
    }
   ],
   "source": [
    "text=\"Python is Human readale language.Python have huge library support\"\n",
    "print(text.rfind(\"Python\"))"
   ]
  },
  {
   "cell_type": "code",
   "execution_count": 9,
   "id": "10314765",
   "metadata": {},
   "outputs": [
    {
     "name": "stdout",
     "output_type": "stream",
     "text": [
      "-1\n"
     ]
    }
   ],
   "source": [
    "text=\"Python is Human readale language.Python have huge library support\"\n",
    "print(text.rfind(\"java\"))"
   ]
  },
  {
   "cell_type": "code",
   "execution_count": null,
   "id": "3f357c8f",
   "metadata": {},
   "outputs": [],
   "source": []
  }
 ],
 "metadata": {
  "kernelspec": {
   "display_name": "Python 3",
   "language": "python",
   "name": "python3"
  },
  "language_info": {
   "codemirror_mode": {
    "name": "ipython",
    "version": 3
   },
   "file_extension": ".py",
   "mimetype": "text/x-python",
   "name": "python",
   "nbconvert_exporter": "python",
   "pygments_lexer": "ipython3",
   "version": "3.12.4"
  }
 },
 "nbformat": 4,
 "nbformat_minor": 5
}
