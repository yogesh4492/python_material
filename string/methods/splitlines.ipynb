{
 "cells": [
  {
   "cell_type": "code",
   "execution_count": 1,
   "id": "2c60fdd4",
   "metadata": {},
   "outputs": [
    {
     "data": {
      "text/plain": [
       "' splitline method '"
      ]
     },
     "execution_count": 1,
     "metadata": {},
     "output_type": "execute_result"
    }
   ],
   "source": [
    "\"\"\" splitline method \"\"\"\n",
    "\n",
    "# this method split the string at line break into new line\n",
    "# syntax:\n",
    " #string.splitlines(keepsend=false) by default false\n",
    " #false=ignore all newline charactrer\n",
    " #true=keeps newline character into string"
   ]
  },
  {
   "cell_type": "code",
   "execution_count": 4,
   "id": "7a3793d8",
   "metadata": {},
   "outputs": [
    {
     "name": "stdout",
     "output_type": "stream",
     "text": [
      "['Hello', ' world']\n"
     ]
    }
   ],
   "source": [
    "txt=\"Hello\\n world\\n\"\n",
    "print(txt.splitlines())"
   ]
  },
  {
   "cell_type": "code",
   "execution_count": 9,
   "id": "c30dbfe2",
   "metadata": {},
   "outputs": [
    {
     "name": "stdout",
     "output_type": "stream",
     "text": [
      "['Hello\\n', ' world\\n']\n"
     ]
    }
   ],
   "source": [
    "txt=\"Hello\\n world\\n\"\n",
    "print(txt.splitlines(True))"
   ]
  },
  {
   "cell_type": "code",
   "execution_count": 13,
   "id": "a218e2d0",
   "metadata": {},
   "outputs": [
    {
     "name": "stdout",
     "output_type": "stream",
     "text": [
      "['Hello', 'world']\n"
     ]
    }
   ],
   "source": [
    "txt=\"Hello\\r\\nworld\\n\"\n",
    "print(txt.splitlines())"
   ]
  },
  {
   "cell_type": "code",
   "execution_count": null,
   "id": "fc17db51",
   "metadata": {},
   "outputs": [],
   "source": []
  }
 ],
 "metadata": {
  "kernelspec": {
   "display_name": "Python 3",
   "language": "python",
   "name": "python3"
  },
  "language_info": {
   "codemirror_mode": {
    "name": "ipython",
    "version": 3
   },
   "file_extension": ".py",
   "mimetype": "text/x-python",
   "name": "python",
   "nbconvert_exporter": "python",
   "pygments_lexer": "ipython3",
   "version": "3.12.4"
  }
 },
 "nbformat": 4,
 "nbformat_minor": 5
}
