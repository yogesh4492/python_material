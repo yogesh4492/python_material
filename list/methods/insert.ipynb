{
 "cells": [
  {
   "cell_type": "code",
   "execution_count": null,
   "id": "cd4fc8fb",
   "metadata": {},
   "outputs": [
    {
     "data": {
      "text/plain": [
       "' Insert method '"
      ]
     },
     "execution_count": 1,
     "metadata": {},
     "output_type": "execute_result"
    }
   ],
   "source": [
    "\"\"\" Insert method \"\"\"\n",
    "\n",
    "# insert element at specific index\n",
    "#if index is greter than len it add at end\n",
    "\n",
    "#syntax:  \n",
    "#    list.insert(pos,ele)"
   ]
  },
  {
   "cell_type": "code",
   "execution_count": 15,
   "id": "6e6dfe55",
   "metadata": {},
   "outputs": [
    {
     "name": "stdout",
     "output_type": "stream",
     "text": [
      "[50, 1, 2, 4, 5, 6]\n"
     ]
    }
   ],
   "source": [
    "list=[1,2,4,5,6]\n",
    "list.insert(0,50)\n",
    "print(list)"
   ]
  },
  {
   "cell_type": "code",
   "execution_count": null,
   "id": "4a9714bc",
   "metadata": {},
   "outputs": [
    {
     "name": "stdout",
     "output_type": "stream",
     "text": [
      "[45, 1, 35, 2, 5, 6, 7]\n"
     ]
    }
   ],
   "source": [
    "#for loop\n",
    "\n",
    "list=[1,2,5,6,7]\n",
    "size=int(input(\"Enter Element size= \"))\n",
    "for i in range(size):\n",
    "    index=int(input(\"Enter Index= \"))\n",
    "    element=int(input(\"Enter Element= \"))\n",
    "    list.insert(index,element)\n",
    "print(list)"
   ]
  },
  {
   "cell_type": "code",
   "execution_count": 36,
   "id": "4907b526",
   "metadata": {},
   "outputs": [
    {
     "name": "stdout",
     "output_type": "stream",
     "text": [
      "[1, 35, 25, 35, 95, 78]\n"
     ]
    }
   ],
   "source": [
    "#without any built in\n",
    "list=[1,35,95,78]\n",
    "# pos,ele=2,5\n",
    "length=len(list)\n",
    "for _ in range(2):\n",
    "    pos=int(input(\"Enter Position= \"))\n",
    "    element=int(input(\"Enter element= \"))\n",
    "    for i in range(length):\n",
    "        if i==pos:\n",
    "            list =   list[:i]+  [element] +list[i:]\n",
    "print(list)\n"
   ]
  },
  {
   "cell_type": "code",
   "execution_count": null,
   "id": "05d9a79e",
   "metadata": {},
   "outputs": [
    {
     "name": "stdout",
     "output_type": "stream",
     "text": [
      "[1, [1, 2, 2, 34, 5, 6], 34, 5, 6]\n"
     ]
    }
   ],
   "source": [
    "lst2=[1,2,34,5,6]\n",
    "pos=int(input(\"Enter The value= \"))\n",
    "ele=int(input(\"Enter Element= \"))\n",
    "for i in range(len(lst2)):\n",
    "    if i==pos:\n",
    "        lst2=lst2[:i]+[ele]+lst2[i:]\n",
    "print(lst2)"
   ]
  },
  {
   "cell_type": "code",
   "execution_count": null,
   "id": "65f88c74",
   "metadata": {},
   "outputs": [
    {
     "name": "stdout",
     "output_type": "stream",
     "text": [
      "[1, 2, 34, [1, 2, 3], 54]\n",
      "3\n"
     ]
    }
   ],
   "source": [
    "list=[1,2,34,54]\n",
    "list.insert(3,[1,2,3])\n",
    "print(list)\n",
    "print(list[3][-1])"
   ]
  },
  {
   "cell_type": "code",
   "execution_count": null,
   "id": "06563f85",
   "metadata": {},
   "outputs": [
    {
     "name": "stdout",
     "output_type": "stream",
     "text": [
      "[1, 35, 5, 78]\n"
     ]
    }
   ],
   "source": [
    "#without any built in Reeeplace method by index\n",
    "list=[1,35,95,78]\n",
    "# pos,ele=2,5\n",
    "length=len(list)\n",
    "for _ in range(1):\n",
    "    pos=int(input(\"Enter Position= \"))\n",
    "    element=int(input(\"Enter element= \"))\n",
    "    for i in range(length):\n",
    "        if i==pos:\n",
    "            list[i]=element\n",
    "            # list =   list[:i]+  [element] +list[i:]\n",
    "print(list)\n"
   ]
  },
  {
   "cell_type": "code",
   "execution_count": 4,
   "id": "dcf3a1b8",
   "metadata": {},
   "outputs": [
    {
     "name": "stdout",
     "output_type": "stream",
     "text": [
      "[1, 3, 5, 7, 6]\n",
      "[1, 2, 5, 7, 6]\n"
     ]
    }
   ],
   "source": [
    "list=[1,3,5,7,6]\n",
    "print(list)\n",
    "pos,ele=1,2\n",
    "length=len(list)\n",
    "for i in range(length):\n",
    "    if i==pos:\n",
    "       list[i]=ele\n",
    "print(list)\n"
   ]
  },
  {
   "cell_type": "code",
   "execution_count": null,
   "id": "4fe349db",
   "metadata": {},
   "outputs": [],
   "source": []
  }
 ],
 "metadata": {
  "kernelspec": {
   "display_name": "Python 3",
   "language": "python",
   "name": "python3"
  },
  "language_info": {
   "codemirror_mode": {
    "name": "ipython",
    "version": 3
   },
   "file_extension": ".py",
   "mimetype": "text/x-python",
   "name": "python",
   "nbconvert_exporter": "python",
   "pygments_lexer": "ipython3",
   "version": "3.12.4"
  }
 },
 "nbformat": 4,
 "nbformat_minor": 5
}
