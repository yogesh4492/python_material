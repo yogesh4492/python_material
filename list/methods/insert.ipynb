{
 "cells": [
  {
   "cell_type": "code",
   "execution_count": 1,
   "id": "cd4fc8fb",
   "metadata": {},
   "outputs": [
    {
     "data": {
      "text/plain": [
       "' Insert method '"
      ]
     },
     "execution_count": 1,
     "metadata": {},
     "output_type": "execute_result"
    }
   ],
   "source": [
    "\"\"\" Insert method \"\"\"\n",
    "\n",
    "# insert element at specific index\n"
   ]
  },
  {
   "cell_type": "code",
   "execution_count": 15,
   "id": "6e6dfe55",
   "metadata": {},
   "outputs": [
    {
     "name": "stdout",
     "output_type": "stream",
     "text": [
      "[50, 1, 2, 4, 5, 6]\n"
     ]
    }
   ],
   "source": [
    "list=[1,2,4,5,6]\n",
    "list.insert(0,50)\n",
    "print(list)"
   ]
  },
  {
   "cell_type": "code",
   "execution_count": null,
   "id": "4a9714bc",
   "metadata": {},
   "outputs": [
    {
     "name": "stdout",
     "output_type": "stream",
     "text": [
      "[45, 1, 35, 2, 5, 6, 7]\n"
     ]
    }
   ],
   "source": [
    "#for loop\n",
    "\n",
    "list=[1,2,5,6,7]\n",
    "size=int(input(\"Enter Element size= \"))\n",
    "for i in range(size):\n",
    "    index=int(input(\"Enter Index= \"))\n",
    "    element=int(input(\"Enter Element= \"))\n",
    "    list.insert(index,element)\n",
    "print(list)"
   ]
  },
  {
   "cell_type": "code",
   "execution_count": 36,
   "id": "4907b526",
   "metadata": {},
   "outputs": [
    {
     "name": "stdout",
     "output_type": "stream",
     "text": [
      "[1, 35, 25, 35, 95, 78]\n"
     ]
    }
   ],
   "source": [
    "#without any built in\n",
    "list=[1,35,95,78]\n",
    "# pos,ele=2,5\n",
    "length=len(list)\n",
    "for _ in range(2):\n",
    "    pos=int(input(\"Enter Position= \"))\n",
    "    element=int(input(\"Enter element= \"))\n",
    "    for i in range(length):\n",
    "        if i==pos:\n",
    "            list =   list[:i]+  [element] +list[i:]\n",
    "print(list)\n"
   ]
  },
  {
   "cell_type": "code",
   "execution_count": null,
   "id": "e56c8058",
   "metadata": {},
   "outputs": [],
   "source": [
    "#recursion\n",
    "\n",
    "def insert(pos,element):\n",
    "    if li"
   ]
  },
  {
   "cell_type": "code",
   "execution_count": 13,
   "id": "65f88c74",
   "metadata": {},
   "outputs": [
    {
     "name": "stdout",
     "output_type": "stream",
     "text": [
      "[1, 2, 34, [1, 2, 3], 54]\n",
      "3\n"
     ]
    }
   ],
   "source": [
    "list=[1,2,34,54]\n",
    "list.insert(3,[1,2,3])\n",
    "print(list)\n",
    "print(list[3][-1])\n",
    "\n"
   ]
  },
  {
   "cell_type": "code",
   "execution_count": null,
   "id": "06563f85",
   "metadata": {},
   "outputs": [],
   "source": []
  }
 ],
 "metadata": {
  "kernelspec": {
   "display_name": "Python 3",
   "language": "python",
   "name": "python3"
  },
  "language_info": {
   "codemirror_mode": {
    "name": "ipython",
    "version": 3
   },
   "file_extension": ".py",
   "mimetype": "text/x-python",
   "name": "python",
   "nbconvert_exporter": "python",
   "pygments_lexer": "ipython3",
   "version": "3.12.4"
  }
 },
 "nbformat": 4,
 "nbformat_minor": 5
}
