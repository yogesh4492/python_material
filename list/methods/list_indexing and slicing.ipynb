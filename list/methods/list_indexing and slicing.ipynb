{
 "cells": [
  {
   "cell_type": "code",
   "execution_count": 1,
   "id": "b98cf021",
   "metadata": {},
   "outputs": [
    {
     "data": {
      "text/plain": [
       "' List slicing and indexing'"
      ]
     },
     "execution_count": 1,
     "metadata": {},
     "output_type": "execute_result"
    }
   ],
   "source": [
    "\"\"\" List slicing and indexing\"\"\""
   ]
  },
  {
   "cell_type": "code",
   "execution_count": null,
   "id": "d72a258b",
   "metadata": {},
   "outputs": [
    {
     "name": "stdout",
     "output_type": "stream",
     "text": [
      "1\n",
      "7\n"
     ]
    }
   ],
   "source": [
    "\"\"\" positive indexingn \"\"\"\n",
    "# start with 0\n",
    "\n",
    "list=[1,2,3,54,7]\n",
    "print(list[0])# first\n",
    "print(list[len(list)-1])# last\n"
   ]
  },
  {
   "cell_type": "code",
   "execution_count": null,
   "id": "91da0f0a",
   "metadata": {},
   "outputs": [
    {
     "name": "stdout",
     "output_type": "stream",
     "text": [
      "4\n",
      "1\n"
     ]
    }
   ],
   "source": [
    "# negative\n",
    "#start with -1\n",
    "list=[1,2,4,2,55,6,4]\n",
    "print(list[-1])#last \n",
    "print(list[-len(list)])#first\n"
   ]
  },
  {
   "cell_type": "code",
   "execution_count": null,
   "id": "24232a3c",
   "metadata": {},
   "outputs": [
    {
     "name": "stdout",
     "output_type": "stream",
     "text": [
      "[1, 3, 3224, 42, 123]\n",
      "[3, 3224, 42, 123]\n",
      "[3, 3224, 42]\n",
      "[123, 42, 3224, 3, 1]\n"
     ]
    }
   ],
   "source": [
    "\"\"\" Slicing \"\"\"\n",
    "# syntax [start: end : step]\n",
    "# it work like range if 5 inde at end it go until 4\n",
    "\n",
    "# 3 positive\n",
    "list=[1,3,3224,42,123]\n",
    "print(list[:])# print all\n",
    "print(list[1:])# one index to last\n",
    "print(list[1:4])# one to 3\n",
    "print(list[::-1])#reverse"
   ]
  },
  {
   "cell_type": "code",
   "execution_count": 8,
   "id": "7f1fcc1e",
   "metadata": {},
   "outputs": [
    {
     "name": "stdout",
     "output_type": "stream",
     "text": [
      "[1, 33, 42, 98]\n"
     ]
    }
   ],
   "source": [
    "\"\"\" Negative slicing\"\"\"\n",
    "\n",
    "list=[1,33,42,98,78]\n",
    "print(list[-5:-1])"
   ]
  },
  {
   "cell_type": "code",
   "execution_count": null,
   "id": "7a3ccc9e",
   "metadata": {},
   "outputs": [],
   "source": []
  }
 ],
 "metadata": {
  "kernelspec": {
   "display_name": "Python 3",
   "language": "python",
   "name": "python3"
  },
  "language_info": {
   "codemirror_mode": {
    "name": "ipython",
    "version": 3
   },
   "file_extension": ".py",
   "mimetype": "text/x-python",
   "name": "python",
   "nbconvert_exporter": "python",
   "pygments_lexer": "ipython3",
   "version": "3.12.4"
  }
 },
 "nbformat": 4,
 "nbformat_minor": 5
}
