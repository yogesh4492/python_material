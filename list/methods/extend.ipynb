{
 "cells": [
  {
   "cell_type": "code",
   "execution_count": null,
   "id": "554d5565",
   "metadata": {},
   "outputs": [
    {
     "data": {
      "text/plain": [
       "' Extend Method '"
      ]
     },
     "execution_count": 1,
     "metadata": {},
     "output_type": "execute_result"
    }
   ],
   "source": [
    "\"\"\" Extend Method \"\"\"\n",
    "\n",
    "# -- add multiple element at the end of list\n",
    "# add multiple element from another iterable/sequance(list,tuple,set,string) to the end.\n",
    "# unlike append which adds whole object as one elemnent ,extend adds each element indiviidually.\n",
    "# without any loop\n",
    "\n",
    "#syntax:\n",
    "#   list.extend([ele1,ele2])"
   ]
  },
  {
   "cell_type": "code",
   "execution_count": null,
   "id": "c6996e20",
   "metadata": {},
   "outputs": [
    {
     "name": "stdout",
     "output_type": "stream",
     "text": [
      "[1, 2, 3, 54, 76, 65, 2, 1, 54]\n"
     ]
    }
   ],
   "source": [
    "list=[1,2,3,54,76]\n",
    "list.extend([65,2,1,54])#multiple element not coem in nested list instes=ad of append\n",
    "print(list)"
   ]
  },
  {
   "cell_type": "code",
   "execution_count": null,
   "id": "c56296b8",
   "metadata": {},
   "outputs": [
    {
     "name": "stdout",
     "output_type": "stream",
     "text": [
      "[1, 23, 54, 54, 65, 45]\n",
      "[1, 23, 54, 65, 45]\n"
     ]
    }
   ],
   "source": [
    "#without any built in method\n",
    "\n",
    "list1=[1,23,54]\n",
    "list2=[54,65,45]\n",
    "list3=[]\n",
    "for i in list2:\n",
    "    list1=list1+[i]\n",
    "print(list1)#complete\n",
    "for i in list1:\n",
    "    if i not in list3:\n",
    "        list3=list3+[i]\n",
    "print(list3)#remove duplicate"
   ]
  },
  {
   "cell_type": "code",
   "execution_count": 5,
   "id": "cbc9c300",
   "metadata": {},
   "outputs": [
    {
     "name": "stdout",
     "output_type": "stream",
     "text": [
      "[1, 2, 4, 65, 76, 45, 56, 89, 45]\n",
      "[1, 2, 4, 65, 76, 45, 56, 89, 45, [45, 56, 89, 45]]\n"
     ]
    }
   ],
   "source": [
    "list=[1,2,4,65,76]\n",
    "list2=[45,56,89,45]\n",
    "list.extend(list2)#add all element without nested\n",
    "print(list)\n",
    "list.append(list2)#add all element in nested\n",
    "print(list)"
   ]
  },
  {
   "cell_type": "code",
   "execution_count": 6,
   "id": "226e4fbc",
   "metadata": {},
   "outputs": [
    {
     "name": "stdout",
     "output_type": "stream",
     "text": [
      "[1, 2, 3, 5, 1, 23, 45, 65]\n",
      "[1, 2, 3, 5, 1, 23, 45, 65, [1, 23, 54, 91]]\n"
     ]
    }
   ],
   "source": [
    "list=[1,2,3,5]\n",
    "list.extend([1,23,45,65])\n",
    "print(list)\n",
    "list.append([1,23,54,91])\n",
    "print(list)"
   ]
  },
  {
   "cell_type": "code",
   "execution_count": 7,
   "id": "d5efebe4",
   "metadata": {},
   "outputs": [
    {
     "name": "stdout",
     "output_type": "stream",
     "text": [
      "[1, 2, 3, 4, 2, 354, 654, 87]\n"
     ]
    }
   ],
   "source": [
    "#using for loop apend one list in another\n",
    "\n",
    "list=[1,2,3,4]\n",
    "list1=[2,354,654,87]\n",
    "for i in list1:\n",
    "    list.append(i)\n",
    "print(list)"
   ]
  },
  {
   "cell_type": "code",
   "execution_count": null,
   "id": "953ea38a",
   "metadata": {},
   "outputs": [],
   "source": []
  }
 ],
 "metadata": {
  "kernelspec": {
   "display_name": "Python 3",
   "language": "python",
   "name": "python3"
  },
  "language_info": {
   "codemirror_mode": {
    "name": "ipython",
    "version": 3
   },
   "file_extension": ".py",
   "mimetype": "text/x-python",
   "name": "python",
   "nbconvert_exporter": "python",
   "pygments_lexer": "ipython3",
   "version": "3.12.4"
  }
 },
 "nbformat": 4,
 "nbformat_minor": 5
}
