{
 "cells": [
  {
   "cell_type": "code",
   "execution_count": null,
   "id": "5fdc9e29",
   "metadata": {},
   "outputs": [
    {
     "data": {
      "text/plain": [
       "' Sort method  '"
      ]
     },
     "execution_count": 1,
     "metadata": {},
     "output_type": "execute_result"
    }
   ],
   "source": [
    "\"\"\" Sort method  \"\"\"\n",
    "\n",
    "# this method is sort list in ascendind and descending method\n",
    "\n",
    "#syntax:\n",
    "#  list.sort(reverse=False key=None)\n",
    "\n",
    "#reverse is by default false \n",
    "#key for bbased on len \n",
    "#its also sort elements if string based their ascii value\n",
    "#it return none when print it\n"
   ]
  },
  {
   "cell_type": "code",
   "execution_count": 6,
   "id": "74ada4ec",
   "metadata": {},
   "outputs": [
    {
     "name": "stdout",
     "output_type": "stream",
     "text": [
      "[10, 5, 1, 3, 5, 2, 6, 8]\n",
      "None\n",
      "[1, 2, 3, 5, 5, 6, 8, 10]\n"
     ]
    }
   ],
   "source": [
    "list=[10,5,1,3,5,2,6,8]\n",
    "print(list)\n",
    "print(list.sort())\n",
    "# list.sort()\n",
    "print(list)"
   ]
  },
  {
   "cell_type": "code",
   "execution_count": 7,
   "id": "c0896b0c",
   "metadata": {},
   "outputs": [
    {
     "name": "stdout",
     "output_type": "stream",
     "text": [
      "None\n",
      "[10, 8, 6, 5, 5, 3, 2, 1]\n"
     ]
    }
   ],
   "source": [
    "list=[1, 2, 3, 5, 5, 6, 8, 10]\n",
    "print(list.sort(reverse=True))\n",
    "print(list)"
   ]
  },
  {
   "cell_type": "code",
   "execution_count": 14,
   "id": "60a804d8",
   "metadata": {},
   "outputs": [
    {
     "name": "stdout",
     "output_type": "stream",
     "text": [
      "None\n",
      "['java', 'list', 'string', 'tuple']\n",
      "None\n",
      "['java', 'list', 'tuple', 'string']\n"
     ]
    }
   ],
   "source": [
    "list=[\"string\",'list','tuple','java']\n",
    "print(list.sort())\n",
    "print(list)\n",
    "print(list.sort(key=len))\n",
    "print(list)"
   ]
  },
  {
   "cell_type": "code",
   "execution_count": null,
   "id": "e000bc5f",
   "metadata": {},
   "outputs": [
    {
     "name": "stdout",
     "output_type": "stream",
     "text": [
      "[1, 2, 3, 4, 4, 5, 11]\n"
     ]
    }
   ],
   "source": [
    "\"\"\"Without Built in  \"\"\"\n",
    "#ascending\n",
    "num=[11,2,4,1,4,5,3]\n",
    "length=len(num)\n",
    "for i in  range(length):\n",
    "    for j in range(length):\n",
    "        if num[i]<num[j]:\n",
    "            temp=num[i]\n",
    "            num[i]=num[j]\n",
    "            num[j]=temp\n",
    "print(num)"
   ]
  },
  {
   "cell_type": "code",
   "execution_count": 28,
   "id": "89ac0c57",
   "metadata": {},
   "outputs": [
    {
     "name": "stdout",
     "output_type": "stream",
     "text": [
      "[11, 5, 4, 4, 3, 2, 1]\n"
     ]
    }
   ],
   "source": [
    "\"\"\"Without Built in  \"\"\"\n",
    "# discending\n",
    "num=[11,2,4,1,4,5,3]\n",
    "length=len(num)\n",
    "for i in  range(length):\n",
    "    for j in range(length):\n",
    "        if num[i]>num[j]:\n",
    "            temp=num[i]\n",
    "            num[i]=num[j]\n",
    "            num[j]=temp\n",
    "print(num)"
   ]
  },
  {
   "cell_type": "code",
   "execution_count": null,
   "id": "e5ab5801",
   "metadata": {},
   "outputs": [],
   "source": []
  }
 ],
 "metadata": {
  "kernelspec": {
   "display_name": "Python 3",
   "language": "python",
   "name": "python3"
  },
  "language_info": {
   "codemirror_mode": {
    "name": "ipython",
    "version": 3
   },
   "file_extension": ".py",
   "mimetype": "text/x-python",
   "name": "python",
   "nbconvert_exporter": "python",
   "pygments_lexer": "ipython3",
   "version": "3.12.4"
  }
 },
 "nbformat": 4,
 "nbformat_minor": 5
}
