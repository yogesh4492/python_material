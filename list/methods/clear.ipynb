{
 "cells": [
  {
   "cell_type": "code",
   "execution_count": null,
   "id": "116286fa",
   "metadata": {},
   "outputs": [
    {
     "data": {
      "text/plain": [
       "' Clear Method '"
      ]
     },
     "execution_count": 1,
     "metadata": {},
     "output_type": "execute_result"
    }
   ],
   "source": [
    "\"\"\" Clear Method \"\"\"\n",
    "\n",
    "# its used to clear list\n",
    "\n",
    "# it return none and emplty list\n",
    "\n",
    "# syntax:\n",
    "#     list.clear()"
   ]
  },
  {
   "cell_type": "code",
   "execution_count": 2,
   "id": "7f7790b6",
   "metadata": {},
   "outputs": [
    {
     "name": "stdout",
     "output_type": "stream",
     "text": [
      "[1, 2, 34, 5, 6, 6]\n",
      "None\n",
      "[]\n"
     ]
    }
   ],
   "source": [
    "list=[1,2,34,5,6,6]\n",
    "print(list)\n",
    "print(list.clear())\n",
    "print(list)"
   ]
  },
  {
   "cell_type": "code",
   "execution_count": null,
   "id": "2cb60837",
   "metadata": {},
   "outputs": [
    {
     "name": "stdout",
     "output_type": "stream",
     "text": [
      "[]\n"
     ]
    }
   ],
   "source": [
    "\"\"\"Without any built in\"\"\"\n",
    "num=[1,2,4]\n",
    "num=[]# very simple\n",
    "num[:]=[]#slicing\n",
    "print(num)"
   ]
  },
  {
   "cell_type": "code",
   "execution_count": 7,
   "id": "f27ecd52",
   "metadata": {},
   "outputs": [
    {
     "name": "stdout",
     "output_type": "stream",
     "text": [
      "77\n",
      "66\n",
      "55\n",
      "44\n",
      "3\n",
      "2\n",
      "1\n",
      "[]\n"
     ]
    }
   ],
   "source": [
    "# 3 also usign pop one by one\n",
    "list=[1,2,3,44,55,66,77]\n",
    "while len(list)>0:\n",
    "      print(list.pop())\n",
    "print(list)"
   ]
  },
  {
   "cell_type": "code",
   "execution_count": null,
   "id": "07349c7a",
   "metadata": {},
   "outputs": [],
   "source": []
  }
 ],
 "metadata": {
  "kernelspec": {
   "display_name": "Python 3",
   "language": "python",
   "name": "python3"
  },
  "language_info": {
   "codemirror_mode": {
    "name": "ipython",
    "version": 3
   },
   "file_extension": ".py",
   "mimetype": "text/x-python",
   "name": "python",
   "nbconvert_exporter": "python",
   "pygments_lexer": "ipython3",
   "version": "3.12.4"
  }
 },
 "nbformat": 4,
 "nbformat_minor": 5
}
