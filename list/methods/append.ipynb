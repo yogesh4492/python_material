{
 "cells": [
  {
   "cell_type": "code",
   "execution_count": null,
   "id": "f71a5180",
   "metadata": {},
   "outputs": [
    {
     "data": {
      "text/plain": [
       "' Append method '"
      ]
     },
     "execution_count": 1,
     "metadata": {},
     "output_type": "execute_result"
    }
   ],
   "source": [
    "\"\"\" Append method \"\"\"\n",
    "# -- Add singal element at the list\n",
    "# one thing is very important its also add multiple element at end but in nestd list \n",
    "# also add multiple elements using loop but if it in another list\n",
    "#syntax:\n",
    "#   list.append(element)"
   ]
  },
  {
   "cell_type": "code",
   "execution_count": 7,
   "id": "c2c9f629",
   "metadata": {},
   "outputs": [
    {
     "name": "stdout",
     "output_type": "stream",
     "text": [
      "[1, 2, 10, 4, 5, 6, 155]\n",
      "1\n",
      "155\n"
     ]
    }
   ],
   "source": [
    "list=[1,2,10,4,5,6]\n",
    "list.append(155)\n",
    "print(list)#one element\n",
    "print(list[0])\n",
    "# length=len(list)\n",
    "print(list[len(list)-1])"
   ]
  },
  {
   "cell_type": "code",
   "execution_count": null,
   "id": "a6e4f530",
   "metadata": {},
   "outputs": [
    {
     "name": "stdout",
     "output_type": "stream",
     "text": [
      "[1, 2, 34, 4]\n"
     ]
    }
   ],
   "source": [
    "#without any built in\n",
    "\n",
    "list=[1,2,34]\n",
    "element=4\n",
    "list=list + [element]\n",
    "print(list)"
   ]
  },
  {
   "cell_type": "code",
   "execution_count": null,
   "id": "da7b95e4",
   "metadata": {},
   "outputs": [
    {
     "name": "stdout",
     "output_type": "stream",
     "text": [
      "[1, 2, 3, 5, 6, 78, 8, 23, 45, 67, 87, 90]\n"
     ]
    }
   ],
   "source": [
    "list=[1,2,3,5,6,78,8]\n",
    "list2=[23,45,67,87,90]\n",
    "for i in list2:\n",
    "    list.append(i)#all list 2 element are apeend one by one in list at the end\n",
    "print(list)"
   ]
  },
  {
   "cell_type": "code",
   "execution_count": 23,
   "id": "7b28682e",
   "metadata": {},
   "outputs": [
    {
     "name": "stdout",
     "output_type": "stream",
     "text": [
      "[1, 2, 3, 4, 6, 7, [4, 5, 6]]\n",
      "6\n"
     ]
    }
   ],
   "source": [
    "list=[1,2,3,4,6,7]\n",
    "list.append([4,5,6])#also add without for it take in nested list\n",
    "print(list)#so for this we can use extend method \n",
    "print(list[-1][-1])"
   ]
  },
  {
   "cell_type": "code",
   "execution_count": 19,
   "id": "23fe5e2d",
   "metadata": {},
   "outputs": [
    {
     "name": "stdout",
     "output_type": "stream",
     "text": [
      "[1, 2, 3, 4, 6, 7, [4, 5, 6]]\n",
      "6\n"
     ]
    }
   ],
   "source": [
    "list=[1,2,3,4,6,7]\n",
    "list.append([4,5,6])#also add without for it take in nested list\n",
    "print(list)\n",
    "print(list[-1][2])# accesing nested list same as  multidimensional arrays\n"
   ]
  },
  {
   "cell_type": "code",
   "execution_count": null,
   "id": "cf09f7fc",
   "metadata": {},
   "outputs": [],
   "source": []
  }
 ],
 "metadata": {
  "kernelspec": {
   "display_name": "Python 3",
   "language": "python",
   "name": "python3"
  },
  "language_info": {
   "codemirror_mode": {
    "name": "ipython",
    "version": 3
   },
   "file_extension": ".py",
   "mimetype": "text/x-python",
   "name": "python",
   "nbconvert_exporter": "python",
   "pygments_lexer": "ipython3",
   "version": "3.12.4"
  }
 },
 "nbformat": 4,
 "nbformat_minor": 5
}
