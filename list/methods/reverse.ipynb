{
 "cells": [
  {
   "cell_type": "code",
   "execution_count": 1,
   "id": "c1867461",
   "metadata": {},
   "outputs": [
    {
     "data": {
      "text/plain": [
       "'reverse method  '"
      ]
     },
     "execution_count": 1,
     "metadata": {},
     "output_type": "execute_result"
    }
   ],
   "source": [
    "\"\"\"reverse method  \"\"\"\n",
    "\n",
    "#this method reverse the orderr of list\n",
    "#last to first \n",
    "#no compare the value\n"
   ]
  },
  {
   "cell_type": "code",
   "execution_count": 2,
   "id": "741d797d",
   "metadata": {},
   "outputs": [
    {
     "name": "stdout",
     "output_type": "stream",
     "text": [
      "None\n",
      "[4, 2, 6, 5, 1]\n"
     ]
    }
   ],
   "source": [
    "list=[1,5,6,2,4]\n",
    "print(list.reverse())\n",
    "print(list)"
   ]
  },
  {
   "cell_type": "code",
   "execution_count": 6,
   "id": "7bcfa1ad",
   "metadata": {},
   "outputs": [
    {
     "name": "stdout",
     "output_type": "stream",
     "text": [
      "[1, 5, 6, 2, 4]\n",
      "[4, 2, 6, 5, 1]\n"
     ]
    }
   ],
   "source": [
    "\"\"\" Without built in \"\"\"\n",
    "list=[1,5,6,2,4]\n",
    "print(list)\n",
    "list2=[]\n",
    "for i in list:\n",
    "       list2=[i]+list2\n",
    "print(list2)"
   ]
  },
  {
   "cell_type": "code",
   "execution_count": 8,
   "id": "057f4ff0",
   "metadata": {},
   "outputs": [
    {
     "name": "stdout",
     "output_type": "stream",
     "text": [
      "[2, 4, 1, 12, 5, 4, 2, 1]\n"
     ]
    }
   ],
   "source": [
    "list=[1,2,4,5,12,1,4,2]\n",
    "end,start=len(list)-1,0\n",
    "while start< end:\n",
    "    list[start],list[end]=list[end],list[start]\n",
    "    start+=1\n",
    "    end-=1\n",
    "print(list)"
   ]
  },
  {
   "cell_type": "code",
   "execution_count": null,
   "id": "d7f2842b",
   "metadata": {},
   "outputs": [],
   "source": []
  }
 ],
 "metadata": {
  "kernelspec": {
   "display_name": "Python 3",
   "language": "python",
   "name": "python3"
  },
  "language_info": {
   "codemirror_mode": {
    "name": "ipython",
    "version": 3
   },
   "file_extension": ".py",
   "mimetype": "text/x-python",
   "name": "python",
   "nbconvert_exporter": "python",
   "pygments_lexer": "ipython3",
   "version": "3.12.4"
  }
 },
 "nbformat": 4,
 "nbformat_minor": 5
}
