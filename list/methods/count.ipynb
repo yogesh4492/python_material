{
 "cells": [
  {
   "cell_type": "code",
   "execution_count": 1,
   "id": "f6e1fb9b",
   "metadata": {},
   "outputs": [
    {
     "data": {
      "text/plain": [
       "' Count Method '"
      ]
     },
     "execution_count": 1,
     "metadata": {},
     "output_type": "execute_result"
    }
   ],
   "source": [
    "\"\"\" Count Method \"\"\"\n",
    "# syntax : count(value)\n",
    "\n",
    "#it count the value how many time come in list\n",
    "#it does not occur error if not found it return 0\n"
   ]
  },
  {
   "cell_type": "code",
   "execution_count": 3,
   "id": "5789ddbc",
   "metadata": {},
   "outputs": [
    {
     "name": "stdout",
     "output_type": "stream",
     "text": [
      "2\n"
     ]
    }
   ],
   "source": [
    "\"\"\" Normal Usage \"\"\"\n",
    "list=[1,2,1,3,4,5,6]\n",
    "print(list.count(1))\n"
   ]
  },
  {
   "cell_type": "code",
   "execution_count": 12,
   "id": "06d7f92f",
   "metadata": {},
   "outputs": [
    {
     "name": "stdout",
     "output_type": "stream",
     "text": [
      "3\n"
     ]
    }
   ],
   "source": [
    "\"\"\"Without Built in \"\"\"\n",
    "\n",
    "lst=[1,2,4,5,4,1.00,True]\n",
    "# str(lst) its not work\n",
    "count=0\n",
    "val=int(input(\"Enter Number= \"))\n",
    "for i in lst:\n",
    "    if i==val:\n",
    "        count+=1\n",
    "print(count)\n"
   ]
  },
  {
   "cell_type": "code",
   "execution_count": null,
   "id": "a081d080",
   "metadata": {},
   "outputs": [],
   "source": []
  }
 ],
 "metadata": {
  "kernelspec": {
   "display_name": "Python 3",
   "language": "python",
   "name": "python3"
  },
  "language_info": {
   "codemirror_mode": {
    "name": "ipython",
    "version": 3
   },
   "file_extension": ".py",
   "mimetype": "text/x-python",
   "name": "python",
   "nbconvert_exporter": "python",
   "pygments_lexer": "ipython3",
   "version": "3.12.4"
  }
 },
 "nbformat": 4,
 "nbformat_minor": 5
}
