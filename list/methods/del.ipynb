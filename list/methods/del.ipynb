{
 "cells": [
  {
   "cell_type": "code",
   "execution_count": null,
   "id": "3137fec9",
   "metadata": {},
   "outputs": [
    {
     "data": {
      "text/plain": [
       "' del keyword '"
      ]
     },
     "execution_count": 1,
     "metadata": {},
     "output_type": "execute_result"
    }
   ],
   "source": [
    "\"\"\" del keyword \"\"\"\n",
    "\n",
    "# del keyword used to delete list from memory not ust clear it \n",
    "# after del if you want to print it  occures nameerror\n",
    "\n",
    "\n",
    "# syntax:\n",
    "#   del list_name"
   ]
  },
  {
   "cell_type": "code",
   "execution_count": null,
   "id": "6cb5ec58",
   "metadata": {},
   "outputs": [
    {
     "name": "stdout",
     "output_type": "stream",
     "text": [
      "[1, 2, 3, 4]\n"
     ]
    }
   ],
   "source": [
    "lst=[1,2,3,4]\n",
    "print(lst)\n",
    "del lst\n",
    "# print(lst) nameerror  occures\n"
   ]
  },
  {
   "cell_type": "code",
   "execution_count": null,
   "id": "694f1782",
   "metadata": {},
   "outputs": [],
   "source": []
  }
 ],
 "metadata": {
  "kernelspec": {
   "display_name": "Python 3",
   "language": "python",
   "name": "python3"
  },
  "language_info": {
   "codemirror_mode": {
    "name": "ipython",
    "version": 3
   },
   "file_extension": ".py",
   "mimetype": "text/x-python",
   "name": "python",
   "nbconvert_exporter": "python",
   "pygments_lexer": "ipython3",
   "version": "3.12.4"
  }
 },
 "nbformat": 4,
 "nbformat_minor": 5
}
