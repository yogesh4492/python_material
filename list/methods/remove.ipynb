{
 "cells": [
  {
   "cell_type": "code",
   "execution_count": 1,
   "id": "67dd932a",
   "metadata": {},
   "outputs": [
    {
     "data": {
      "text/plain": [
       "'   Remove Method '"
      ]
     },
     "execution_count": 1,
     "metadata": {},
     "output_type": "execute_result"
    }
   ],
   "source": [
    "\"\"\"   Remove Method \"\"\"\n",
    "\n",
    "# remove is used to remove specific element of list and also remove first occurence\n",
    "# remove return none \n",
    "# it occures valueerror if element not found\n",
    "# list size decrease by -1\n",
    "#  "
   ]
  },
  {
   "cell_type": "code",
   "execution_count": 4,
   "id": "0d5fdd82",
   "metadata": {},
   "outputs": [
    {
     "name": "stdout",
     "output_type": "stream",
     "text": [
      "None\n",
      "[10, 30, 2, 40]\n"
     ]
    }
   ],
   "source": [
    "\"\"\"Normal Uses \"\"\"\n",
    "list=[10,2,30,2,40]\n",
    "ele=int(input(\"Enter Element= \"))\n",
    "print(list.remove(ele))#return none\n",
    "print(list)"
   ]
  },
  {
   "cell_type": "code",
   "execution_count": 12,
   "id": "408ba4b4",
   "metadata": {},
   "outputs": [
    {
     "name": "stdout",
     "output_type": "stream",
     "text": [
      "[10, 30, 2, 40]\n"
     ]
    }
   ],
   "source": [
    "\"\"\" Without built in\"\"\"\n",
    "list=[10,2,30,2,40]\n",
    "element=int(input(\"Enter Element= \"))\n",
    "length=(len(list))\n",
    "list2=[]\n",
    "remove=False\n",
    "for i in range(length):\n",
    "    if element==list[i] and remove==False:\n",
    "        remove=True\n",
    "        continue\n",
    "    else:\n",
    "        list2.append(list[i])\n",
    "print(list2)\n"
   ]
  },
  {
   "cell_type": "code",
   "execution_count": null,
   "id": "dbd94f3a",
   "metadata": {},
   "outputs": [],
   "source": []
  }
 ],
 "metadata": {
  "kernelspec": {
   "display_name": "Python 3",
   "language": "python",
   "name": "python3"
  },
  "language_info": {
   "codemirror_mode": {
    "name": "ipython",
    "version": 3
   },
   "file_extension": ".py",
   "mimetype": "text/x-python",
   "name": "python",
   "nbconvert_exporter": "python",
   "pygments_lexer": "ipython3",
   "version": "3.12.4"
  }
 },
 "nbformat": 4,
 "nbformat_minor": 5
}
