{
 "cells": [
  {
   "cell_type": "code",
   "execution_count": 1,
   "id": "0f7b7157",
   "metadata": {},
   "outputs": [
    {
     "data": {
      "text/plain": [
       "' Index Method '"
      ]
     },
     "execution_count": 1,
     "metadata": {},
     "output_type": "execute_result"
    }
   ],
   "source": [
    "\"\"\" Index Method \"\"\"\n",
    "\n",
    "# index method retrun first index of value\n",
    "#syntax:\n",
    "  # list.index(value,start,end)\n",
    "  # value-> the elemnt search\n",
    "  # start -> optinal \n",
    "  # end-> optinal\n",
    "#if value not found it return value error\n",
    "\n"
   ]
  },
  {
   "cell_type": "code",
   "execution_count": null,
   "id": "09410cdc",
   "metadata": {},
   "outputs": [
    {
     "name": "stdout",
     "output_type": "stream",
     "text": [
      "[1, 2, 4, 5, 6]\n",
      "1\n"
     ]
    }
   ],
   "source": [
    "list=[1,2,4,5,6]\n",
    "# list.index(1) not work must be in print it work\n",
    "print(list)\n",
    "print(list.index(2))"
   ]
  },
  {
   "cell_type": "code",
   "execution_count": 6,
   "id": "80d6b150",
   "metadata": {},
   "outputs": [
    {
     "name": "stdout",
     "output_type": "stream",
     "text": [
      "1\n"
     ]
    }
   ],
   "source": [
    "\"\"\" Without Built in \"\"\"\n",
    "list=[1,2,3,4,5,6]\n",
    "index=int(input(\"Enter value= \"))\n",
    "length=len(list)\n",
    "for i in range(length):\n",
    "    if list[i]==index:\n",
    "        print(i)\n"
   ]
  },
  {
   "cell_type": "code",
   "execution_count": null,
   "id": "632c0fbc",
   "metadata": {},
   "outputs": [],
   "source": []
  }
 ],
 "metadata": {
  "kernelspec": {
   "display_name": "Python 3",
   "language": "python",
   "name": "python3"
  },
  "language_info": {
   "codemirror_mode": {
    "name": "ipython",
    "version": 3
   },
   "file_extension": ".py",
   "mimetype": "text/x-python",
   "name": "python",
   "nbconvert_exporter": "python",
   "pygments_lexer": "ipython3",
   "version": "3.12.4"
  }
 },
 "nbformat": 4,
 "nbformat_minor": 5
}
