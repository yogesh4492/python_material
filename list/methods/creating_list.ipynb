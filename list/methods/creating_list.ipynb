{
 "cells": [
  {
   "cell_type": "code",
   "execution_count": null,
   "id": "d58727a3",
   "metadata": {},
   "outputs": [
    {
     "data": {
      "text/plain": [
       "' Creating lists '"
      ]
     },
     "execution_count": 1,
     "metadata": {},
     "output_type": "execute_result"
    }
   ],
   "source": [
    "\"\"\" Creating lists \"\"\"\n",
    "\n",
    "#also create in Squre bracket\n",
    "#ex: list=[1,2,3,4,5,55]\n",
    "# also able to create list constructor\n",
    "#ex:  fruits=list([1,2,3,4,5,6])"
   ]
  },
  {
   "cell_type": "code",
   "execution_count": null,
   "id": "f38913f8",
   "metadata": {},
   "outputs": [
    {
     "name": "stdout",
     "output_type": "stream",
     "text": [
      "[1, 2, 3, 4, 5, [6, 7, 8, 9]]\n"
     ]
    }
   ],
   "source": [
    "#Interview Question\n",
    "list1=[1,2,3,4,5]\n",
    "list2=[6,7,8,9]\n",
    "list3=[1,2,3,4,5,6]\n",
    "list1.append(list2)\n",
    "list1.extend(list3)\n",
    "print(list1)"
   ]
  },
  {
   "cell_type": "code",
   "execution_count": 19,
   "id": "25c46bec",
   "metadata": {},
   "outputs": [
    {
     "name": "stdout",
     "output_type": "stream",
     "text": [
      "[]\n",
      "[1, 2, 3, 4, 5]\n",
      "['a', 'b', 'v']\n",
      "[1, 'b', 3.8]\n",
      "[1, [2, 3], [4, 5]]\n"
     ]
    }
   ],
   "source": [
    "list1=[]\n",
    "print(list1)#empty error\n",
    "\n",
    "list2=[1,2,3,4,5]\n",
    "print(list2)\n",
    "\n",
    "list3=['a','b','v']# string\n",
    "print(list3)\n",
    "\n",
    "list4=[1,'b',3.8]#mixed\n",
    "print(list4)\n",
    "\n",
    "list5=[1,[2,3],[4,5]]\n",
    "print(list5)\n"
   ]
  },
  {
   "cell_type": "code",
   "execution_count": null,
   "id": "3adba095",
   "metadata": {},
   "outputs": [],
   "source": []
  }
 ],
 "metadata": {
  "kernelspec": {
   "display_name": "Python 3",
   "language": "python",
   "name": "python3"
  },
  "language_info": {
   "codemirror_mode": {
    "name": "ipython",
    "version": 3
   },
   "file_extension": ".py",
   "mimetype": "text/x-python",
   "name": "python",
   "nbconvert_exporter": "python",
   "pygments_lexer": "ipython3",
   "version": "3.12.4"
  }
 },
 "nbformat": 4,
 "nbformat_minor": 5
}
