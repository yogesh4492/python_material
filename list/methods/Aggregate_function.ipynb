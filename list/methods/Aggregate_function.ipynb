{
 "cells": [
  {
   "cell_type": "code",
   "execution_count": 1,
   "id": "9f560556",
   "metadata": {},
   "outputs": [
    {
     "data": {
      "text/plain": [
       "' List aggregate function'"
      ]
     },
     "execution_count": 1,
     "metadata": {},
     "output_type": "execute_result"
    }
   ],
   "source": [
    "\"\"\" List aggregate function\"\"\"\n",
    "# it also support inbuilt \n"
   ]
  },
  {
   "cell_type": "code",
   "execution_count": 2,
   "id": "a453ced9",
   "metadata": {},
   "outputs": [
    {
     "name": "stdout",
     "output_type": "stream",
     "text": [
      "15\n"
     ]
    }
   ],
   "source": [
    "\"\"\" sum \"\"\"\n",
    "# it return sum of all element of list\n",
    "list=[1,2,3,4,5]\n",
    "print(sum(list))"
   ]
  },
  {
   "cell_type": "code",
   "execution_count": 3,
   "id": "3cf84657",
   "metadata": {},
   "outputs": [
    {
     "name": "stdout",
     "output_type": "stream",
     "text": [
      "0\n"
     ]
    }
   ],
   "source": [
    "\"\"\" min\"\"\"\n",
    "#it return minimum valu\n",
    "list=[1,2,0,3]\n",
    "print(min(list))"
   ]
  },
  {
   "cell_type": "code",
   "execution_count": 5,
   "id": "296ab63c",
   "metadata": {},
   "outputs": [
    {
     "name": "stdout",
     "output_type": "stream",
     "text": [
      "34\n"
     ]
    }
   ],
   "source": [
    "\"\"\"max \"\"\"\n",
    "list=[11,1,3,34]\n",
    "print(max(list))"
   ]
  },
  {
   "cell_type": "code",
   "execution_count": 6,
   "id": "8c2827c5",
   "metadata": {},
   "outputs": [
    {
     "name": "stdout",
     "output_type": "stream",
     "text": [
      "6\n"
     ]
    }
   ],
   "source": [
    "\"\"\"len \"\"\"\n",
    "list=[1,2,3,4,56,7]\n",
    "print(len(list))"
   ]
  },
  {
   "cell_type": "code",
   "execution_count": null,
   "id": "4cc0cf2e",
   "metadata": {},
   "outputs": [],
   "source": []
  }
 ],
 "metadata": {
  "kernelspec": {
   "display_name": "Python 3",
   "language": "python",
   "name": "python3"
  },
  "language_info": {
   "codemirror_mode": {
    "name": "ipython",
    "version": 3
   },
   "file_extension": ".py",
   "mimetype": "text/x-python",
   "name": "python",
   "nbconvert_exporter": "python",
   "pygments_lexer": "ipython3",
   "version": "3.12.4"
  }
 },
 "nbformat": 4,
 "nbformat_minor": 5
}
