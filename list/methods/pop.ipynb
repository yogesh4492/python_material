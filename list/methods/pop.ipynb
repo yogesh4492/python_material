{
 "cells": [
  {
   "cell_type": "code",
   "execution_count": null,
   "id": "8cfe836a",
   "metadata": {},
   "outputs": [
    {
     "data": {
      "text/plain": [
       "' POP method  '"
      ]
     },
     "execution_count": 1,
     "metadata": {},
     "output_type": "execute_result"
    }
   ],
   "source": [
    "\"\"\" POP method  \"\"\"\n",
    "\n",
    "#pop remove element from at the end\n",
    "#unlike remove return none, pop return deleted elements\n",
    "# by default it remove -1 index element\n",
    "#it also accept index from user as parameter but occur index error if element not found\n",
    "#syntax:\n",
    "#  list.pop() remove last element\n",
    "# list. pop(index) # remove ifelement  on  index availble"
   ]
  },
  {
   "cell_type": "code",
   "execution_count": 4,
   "id": "0b8a6d72",
   "metadata": {},
   "outputs": [
    {
     "name": "stdout",
     "output_type": "stream",
     "text": [
      "50\n",
      "[10, 20, 30, 40]\n",
      "10\n",
      "[20, 30, 40]\n"
     ]
    }
   ],
   "source": [
    "num=[10,20,30,40,50]\n",
    "print(num.pop())#return deleted element\n",
    "print(num)\n",
    "\n",
    "print(num.pop(0))\n",
    "print(num)"
   ]
  },
  {
   "cell_type": "code",
   "execution_count": 5,
   "id": "40af0118",
   "metadata": {},
   "outputs": [
    {
     "name": "stdout",
     "output_type": "stream",
     "text": [
      "90\n",
      "[12, 23, 34, 45, 56, 67, 78, 89]\n"
     ]
    }
   ],
   "source": [
    "\"\"\" Without Built in \"\"\"\n",
    "# pop last element\n",
    "\n",
    "list1=[12,23,34,45,56,67,78,89,90]\n",
    "pop=list1[-1]\n",
    "list2=[]\n",
    "for i in list1:\n",
    "    if i==pop:\n",
    "        continue\n",
    "    list2.append(i)\n",
    "print(pop)\n",
    "print(list2)"
   ]
  },
  {
   "cell_type": "code",
   "execution_count": 9,
   "id": "825243b7",
   "metadata": {},
   "outputs": [
    {
     "name": "stdout",
     "output_type": "stream",
     "text": [
      "[1, 2, [3, 4, 5], 4, 5, 6, 7]\n",
      "[3, 4, 5]\n",
      "[1, 2, 4, 5, 6, 7]\n"
     ]
    }
   ],
   "source": [
    "# pop at index\n",
    "lst1=[1,2,[3,4,5],4,5,6,7]\n",
    "print(lst1)\n",
    "index=int(input(\"Enter Index= \"))\n",
    "length=len(lst1)\n",
    "lst2=[]\n",
    "for i in range(length):\n",
    "    if i==index:\n",
    "        print(lst1[i])\n",
    "        continue\n",
    "    lst2.append(lst1[i])\n",
    "print(lst2)"
   ]
  },
  {
   "cell_type": "code",
   "execution_count": null,
   "id": "9db88b3d",
   "metadata": {},
   "outputs": [],
   "source": []
  }
 ],
 "metadata": {
  "kernelspec": {
   "display_name": "Python 3",
   "language": "python",
   "name": "python3"
  },
  "language_info": {
   "codemirror_mode": {
    "name": "ipython",
    "version": 3
   },
   "file_extension": ".py",
   "mimetype": "text/x-python",
   "name": "python",
   "nbconvert_exporter": "python",
   "pygments_lexer": "ipython3",
   "version": "3.12.4"
  }
 },
 "nbformat": 4,
 "nbformat_minor": 5
}
